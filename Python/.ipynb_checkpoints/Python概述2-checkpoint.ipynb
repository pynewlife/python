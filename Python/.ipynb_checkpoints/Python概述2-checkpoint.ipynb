{
 "cells": [
  {
   "cell_type": "markdown",
   "metadata": {},
   "source": [
    "# 注释\n",
    "- 注释机器是不执行的\n",
    "- 注释是专门给人看的自然语言\n",
    "    - 行注释：以#开始\n",
    "    - 块注释：好几行代码"
   ]
  },
  {
   "cell_type": "code",
   "execution_count": 2,
   "metadata": {},
   "outputs": [
    {
     "data": {
      "text/plain": [
       "'\\n也可是用三个单引号开始\\n三个单引号结束\\n\\n'"
      ]
     },
     "execution_count": 2,
     "metadata": {},
     "output_type": "execute_result"
    }
   ],
   "source": [
    "#可以以行操作\n",
    "'''\n",
    "也可是用三个单引号开始\n",
    "三个单引号结束\n",
    "\n",
    "'''"
   ]
  },
  {
   "cell_type": "markdown",
   "metadata": {},
   "source": [
    "# 变量\n",
    "- 程序=数据结构+算法\n",
    "- 变量就是可以重复使用的一个量，或者叫一个代号\n",
    "- 变量命名的规则\n",
    "    - 变量命名可以包含数字，大小写字母，下划线或者更多，不要使用其他之外的字符。\n",
    "    - 数字不开头\n",
    "        - 5thon 6yjom\n",
    "        - mao1 \n",
    "    - 一般在Python 以下划线开头的有特殊含义，不建议使用\n",
    "    - 大小写敏感\n",
    "        - Forth  forthon\n",
    "    - 推荐\n",
    "        - 使用具有固定含有的单词或者缩写 \n",
    "        - 驼峰命名法\n",
    "            - 名称单词连接，每个单词首字母大写\n",
    "                - 大驼峰\n",
    "                    - 在Python是给类命名用\n",
    "                - 小驼峰\n",
    "                    - 给普通变量使用\n",
    "                - posix写法\n",
    "                    - 多个单词用下划线连接\n",
    "                    - 单词全部小写\n",
    "                    - my_first_love\n",
    "    - 保留字和关键字\n",
    "        - class def break for\n",
    "        - 变量的命名必须避开关键字和保留字。\n",
    "                    "
   ]
  },
  {
   "cell_type": "code",
   "execution_count": 3,
   "metadata": {},
   "outputs": [
    {
     "name": "stdout",
     "output_type": "stream",
     "text": [
      "['False', 'None', 'True', 'and', 'as', 'assert', 'async', 'await', 'break', 'class', 'continue', 'def', 'del', 'elif', 'else', 'except', 'finally', 'for', 'from', 'global', 'if', 'import', 'in', 'is', 'lambda', 'nonlocal', 'not', 'or', 'pass', 'raise', 'return', 'try', 'while', 'with', 'yield']\n"
     ]
    }
   ],
   "source": [
    "# 查看关键字的方法\n",
    "import keyword\n",
    "# 打印出关键字列表\n",
    "print(keyword.kwlist)"
   ]
  },
  {
   "cell_type": "markdown",
   "metadata": {},
   "source": [
    "# 变量声明\n",
    "- var_name = var_value\n",
    "- var1 = var2 = var3 = var_value"
   ]
  },
  {
   "cell_type": "code",
   "execution_count": 10,
   "metadata": {},
   "outputs": [
    {
     "name": "stdout",
     "output_type": "stream",
     "text": [
      "18\n",
      "18\n",
      "18\n",
      "18\n",
      "18\n",
      "13\n",
      "14\n",
      "15\n"
     ]
    }
   ],
   "source": [
    "#定义变量 age 把18赋值给age中\n",
    "age = 18 \n",
    "print(age)\n",
    "print(18)\n",
    "#把age1 age2 age3 赋值一样\n",
    "age1 = age2 = age3 =18\n",
    "print(age1)\n",
    "print(age2)\n",
    "print(age3)\n",
    "#一行给多个变量赋值\n",
    "age4,age5,age6 = 13,14,15\n",
    "print(age4)\n",
    "print(age5)\n",
    "print(age6) \n"
   ]
  },
  {
   "cell_type": "markdown",
   "metadata": {},
   "source": [
    "# 变量类型\n",
    "- 严格意义上讲Python只有一个类型\n",
    "- 标准数据一共6种\n",
    "    - 数字类型 Number\n",
    "    - 字符类型 str\n",
    "    - 列表 list\n",
    "    - 元组 tuble\n",
    "    - 集合 set\n",
    "    - 字典 Dicli"
   ]
  },
  {
   "cell_type": "markdown",
   "metadata": {},
   "source": [
    "## Number数字类型\n",
    "- 数字类型没有大小限制\n",
    "### 整数\n",
    "- 没有小数部分的表示数的数字\n",
    "- 自然数 0 负自然数\n",
    "- 整数分进制\n",
    "    - 二进制\n",
    "        - 机器常用\n",
    "        - 计算机唯一的\n",
    "        - 表示0b开头的0，1代码\n",
    "        - 例如： 0b010101 0b10001\n",
    "    - 八进制\n",
    "        - 不常用\n",
    "        - 以0o开头的数字0-7\n",
    "    - 十进制\n",
    "    - 十六进制\n",
    "        - 十六进一\n",
    "        - 每四个二级制表示一个十六进制的\n",
    "        - 数字上是0x开头\n",
    "### 浮点数\n",
    "- 小数\n",
    "- 计算机里边表示浮点数可以有条件省略\n",
    "### 复数\n",
    "- 定义域数学里边的定义是一致的。\n",
    "- 一个实部与虚部构成的数字\n",
    "### 布尔\n",
    "- 表示真假   \n",
    "- 布尔值可以和数字直接操作\n"
   ]
  },
  {
   "cell_type": "code",
   "execution_count": 14,
   "metadata": {},
   "outputs": [
    {
     "name": "stdout",
     "output_type": "stream",
     "text": [
      "18\n",
      "18\n",
      "18\n",
      "255\n"
     ]
    }
   ],
   "source": [
    "age = 18\n",
    "print(age)\n",
    "age = 0b10010\n",
    "print(age)\n",
    "age = 0o22\n",
    "print(age)\n",
    "age = 0xff \n",
    "print (age)"
   ]
  },
  {
   "cell_type": "markdown",
   "metadata": {},
   "source": [
    "### 字符串\n",
    "- 用来表示一串文字的信息\n",
    "- 如何表示\n",
    "    - 单引号\n",
    "    - 双引号\n",
    "    - 三单引号或者双引号\n",
    "        - 可以扩展多行\n",
    "    - 单双引号可以交错使用"
   ]
  },
  {
   "cell_type": "code",
   "execution_count": 18,
   "metadata": {},
   "outputs": [
    {
     "name": "stdout",
     "output_type": "stream",
     "text": [
      "i love wangxiaojing\n",
      "我爱王晓静\n",
      "<a style=\"color:red\">哈哈</a>\n",
      "我是英文\n",
      "i am tom\n",
      "有什么好电影吗？\n",
      "\n"
     ]
    }
   ],
   "source": [
    "love = \"i love wangxiaojing\"\n",
    "print(love)\n",
    "love = '我爱王晓静'\n",
    "print(love)\n",
    "#单双引号交错使用\n",
    "#<a style=\"color:red\">哈哈</a>\n",
    "html = '<a style=\"color:red\">哈哈</a>'\n",
    "htmls ='''我是英文\n",
    "i am tom\n",
    "有什么好电影吗？\n",
    "'''\n",
    "print(html)\n",
    "print(htmls)"
   ]
  },
  {
   "cell_type": "code",
   "execution_count": null,
   "metadata": {},
   "outputs": [],
   "source": []
  }
 ],
 "metadata": {
  "kernelspec": {
   "display_name": "Python 3",
   "language": "python",
   "name": "python3"
  },
  "language_info": {
   "codemirror_mode": {
    "name": "ipython",
    "version": 3
   },
   "file_extension": ".py",
   "mimetype": "text/x-python",
   "name": "python",
   "nbconvert_exporter": "python",
   "pygments_lexer": "ipython3",
   "version": "3.7.0"
  }
 },
 "nbformat": 4,
 "nbformat_minor": 2
}
