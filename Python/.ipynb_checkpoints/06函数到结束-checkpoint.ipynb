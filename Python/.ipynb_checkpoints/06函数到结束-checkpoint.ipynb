{
 "cells": [
  {
   "cell_type": "markdown",
   "metadata": {},
   "source": [
    "# 四类参数\n",
    "- 普通参数\n",
    "- 默认参数\n",
    "- 关键字参数\n",
    "- 收集参数\n",
    "\n",
    "## 关键字参数\n",
    "- 语法\n",
    "\n",
    "        def func(p1=v1,p2=v2,....):\n",
    "            func_body\n",
    "        调用函数\n",
    "        func(p1=value,p2=value2,.....)\n",
    "- 比较麻烦,但也有好处\n",
    "    - 不容易混淆,一般实参和形参只是按照位置一一对应就行,容易出错\n",
    "    - 使用关键参数,可以不考虑参数位置"
   ]
  },
  {
   "cell_type": "code",
   "execution_count": 8,
   "metadata": {},
   "outputs": [
    {
     "name": "stdout",
     "output_type": "stream",
     "text": [
      "I am a student\n",
      "我叫jingjing,我今年18岁了,我住我家\n",
      "I am a student\n",
      "我叫jingjing,我今年18岁了,我住我家\n"
     ]
    }
   ],
   "source": [
    "# 关键字参数案例\n",
    "def stu(name,age,addr):\n",
    "    print(\"I am a student\")\n",
    "    print(\"我叫{0},我今年{1}岁了,我住{2}\".format(name,age,addr))\n",
    "\n",
    "n = \"jingjing\"\n",
    "a = 18\n",
    "addr =\"我家\"\n",
    "stu(n,a,addr)\n",
    "\n",
    "def stu_key(name=\"no name\",age=0,addr=\"no\"):\n",
    "    print(\"I am a student\")\n",
    "    print(\"我叫{0},我今年{1}岁了,我住{2}\".format(name,age,addr))\n",
    "\n",
    "n = \"jingjing\"\n",
    "a = 18\n",
    "addr =\"我家\"\n",
    "stu_key(name=n,age=a,addr=addr)"
   ]
  },
  {
   "cell_type": "markdown",
   "metadata": {},
   "source": [
    "## 收集参数\n",
    "- 把没有位置,不能喝定义的时候参数位置对应的参数,放到一个特定数据结构中\n",
    "- 语法\n",
    "        \n",
    "        def func(*args):\n",
    "            func_body\n",
    "            按照list的使用方式访问args得到传入参数\n",
    "            \n",
    "        调用:\n",
    "        func(p1,p2,.........)\n",
    "- 参数名args不是必须这么写,但是强烈建议这么写\n",
    "- 参数名前面需要有一个*\n",
    "- 手机参数可以和他的参数共存"
   ]
  },
  {
   "cell_type": "code",
   "execution_count": 9,
   "metadata": {},
   "outputs": [
    {
     "name": "stdout",
     "output_type": "stream",
     "text": [
      "大家好,我自我介绍下:\n",
      "<class 'tuple'>\n",
      "liuming\n",
      "18\n",
      "北京大学\n",
      "王晓静\n",
      "单身\n",
      "大家好,我自我介绍下:\n",
      "<class 'tuple'>\n",
      "周大生\n"
     ]
    }
   ],
   "source": [
    "# 收集参数代码\n",
    "# 函数模拟一个学生进行自我介绍,但是具体信息不清楚\n",
    "# args可以看做一个列表\n",
    "def stu(*args):\n",
    "    print(\"大家好,我自我介绍下:\")\n",
    "    #type函数是检测变量类型的\n",
    "    print(type(args))\n",
    "    for item in args:\n",
    "        print(item)\n",
    "stu(\"liuming\",18,\"北京大学\",\"王晓静\",\"单身\")\n",
    "stu(\"周大生\")"
   ]
  },
  {
   "cell_type": "code",
   "execution_count": 11,
   "metadata": {},
   "outputs": [
    {
     "name": "stdout",
     "output_type": "stream",
     "text": [
      "大家好,我自我介绍下:\n",
      "<class 'tuple'>\n"
     ]
    }
   ],
   "source": [
    "# 收集参数案例\n",
    "# 可以不带任何实际参数\n",
    "stu()"
   ]
  },
  {
   "cell_type": "code",
   "execution_count": null,
   "metadata": {},
   "outputs": [],
   "source": [
    "# 如果使用关键字参数格式调用,会出错\n",
    "stu()"
   ]
  },
  {
   "cell_type": "markdown",
   "metadata": {},
   "source": [
    "### 收集参数之关键字参数\n",
    "- 把关键字参数按照字典格式放入收集参数\n",
    "- 语法:\n",
    "\n",
    "            def func(**kwargs):\n",
    "                func_body\n",
    "                \n",
    "                #调用:\n",
    "                func(p1=v1,p2=v2,.....)\n",
    "- kwargs一般约定俗成\n",
    "- 多用的时候,把多余的关键字参数放入kwargs\n",
    "- 访问kwargs需要按照字典格式访问."
   ]
  },
  {
   "cell_type": "code",
   "execution_count": 15,
   "metadata": {},
   "outputs": [
    {
     "name": "stdout",
     "output_type": "stream",
     "text": [
      "大家好!\n",
      "<class 'dict'>\n",
      "name --- liuying\n",
      "age --- 19\n",
      "addr --- 北京\n",
      "love --- 张晓静\n",
      "work --- teacher\n",
      "**************************************************\n",
      "大家好!\n",
      "<class 'dict'>\n",
      "name --- zhoudashen\n"
     ]
    }
   ],
   "source": [
    "# 收集参数案例\n",
    "# 自我介绍\n",
    "# 调用的时候需要用关键字参数调用\n",
    "def stu(**kwargs):\n",
    "    #对于函数体内地kwargs不用加星号\n",
    "    print(\"大家好!\")\n",
    "    print(type(kwargs))\n",
    "    for k,v in kwargs.items():\n",
    "        print(k,\"---\",v)\n",
    "stu(name=\"liuying\",age=19,addr=\"北京\",love=\"张晓静\",work=\"teacher\")\n",
    "print(\"*\"*50)\n",
    "stu(name=\"zhoudashen\")"
   ]
  },
  {
   "cell_type": "markdown",
   "metadata": {},
   "source": [
    "### 收集参数混合调用的顺序问题\n",
    "- 收集参数,关键字参数,普通参数可以混合使用\n",
    "- 使用规则就是,普通参数和关键参数优先\n",
    "- 定义的时候一般找普通参数,关键字参数,收集参数tuple,收集参数dict"
   ]
  },
  {
   "cell_type": "code",
   "execution_count": 25,
   "metadata": {},
   "outputs": [
    {
     "name": "stdout",
     "output_type": "stream",
     "text": [
      "大家好\n",
      "我叫liuying,我今年19了\n",
      "我没有爱好\n",
      "********************\n",
      "##############################\n",
      "大家好\n",
      "我叫liuying,我今年19了\n",
      "我的爱好是游泳\n",
      "********************\n",
      "##############################\n",
      "大家好\n",
      "我叫liuying,我今年19了\n",
      "我的爱好是游戏\n",
      "********************\n",
      "王晓静\n",
      "刘石头\n",
      "##############################\n",
      "hobby2 --- 烹饪\n",
      "hobby3 --- 跟不同的女生聊天\n"
     ]
    }
   ],
   "source": [
    "# 收集参数混合调用的案例\n",
    "#stu模拟一个学生的自我介绍\n",
    "def stu(name,age,*args,hobby=\"没有\",**kwargs):\n",
    "    print(\"大家好\")\n",
    "    print(\"我叫{0},我今年{1}了\".format(name,age))\n",
    "    if hobby == \"没有\":\n",
    "        print(\"我没有爱好\")\n",
    "    else:\n",
    "        print(\"我的爱好是{0}\".format(hobby))\n",
    "    print(\"*\"*20)\n",
    "    for i in args:\n",
    "        print(i)\n",
    "    print(\"#\"*30)\n",
    "    for k,v in kwargs.items():\n",
    "        print(k,\"---\",v)\n",
    "        \n",
    "name = \"liuying\"\n",
    "age = 19\n",
    "stu(name,age)\n",
    "stu(name,age,hobby=\"游泳\")\n",
    "stu(name,age,\"王晓静\",\"刘石头\",hobby=\"游戏\",hobby2=\"烹饪\",hobby3=\"跟不同的女生聊天\")"
   ]
  },
  {
   "cell_type": "markdown",
   "metadata": {},
   "source": [
    "### 收集参数的解包问题\n",
    "- 把参数方式list或者字典中,直接把list/dict中的值放入收集参数中\n",
    "- 语法:看案例"
   ]
  },
  {
   "cell_type": "code",
   "execution_count": 36,
   "metadata": {},
   "outputs": [
    {
     "name": "stdout",
     "output_type": "stream",
     "text": [
      "哈哈哈\n",
      "liuxiaoming\n",
      "19\n",
      "20\n",
      "mingimin\n"
     ]
    }
   ],
   "source": [
    "def stu(*args):\n",
    "    print(\"哈哈哈\")\n",
    "    for i in args:\n",
    "        print(i)\n",
    "#stu(\"liuying\",\"lixiaoming\",19,20)\n",
    "l =[\"liuxiaoming\",19,20,\"mingimin\"]\n",
    "stu(*l)"
   ]
  },
  {
   "cell_type": "markdown",
   "metadata": {},
   "source": [
    "###  字典解包同理\n",
    "- 使用两个星号作为解包字符"
   ]
  },
  {
   "cell_type": "markdown",
   "metadata": {},
   "source": [
    "# 返回值\n",
    "- 函数和过程的区别\n",
    "    - 有无返回值\n",
    "- 需要用return显示返回内容，\n",
    "- 如果没有返回，则默认返回None\n",
    "- 推荐写法，无论有无返回值，最后都要以return 结束"
   ]
  },
  {
   "cell_type": "code",
   "execution_count": 38,
   "metadata": {},
   "outputs": [
    {
     "name": "stdout",
     "output_type": "stream",
     "text": [
      "有返回值啊\n",
      "1\n",
      "没有返回值\n",
      "None\n"
     ]
    }
   ],
   "source": [
    "# 返回值实例\n",
    "def func_1():\n",
    "    print(\"有返回值啊\")\n",
    "    return 1\n",
    "def func_2():\n",
    "    print(\"没有返回值\")\n",
    "f1 = func_1()\n",
    "print(f1)\n",
    "f2 = func_2()\n",
    "print(f2)"
   ]
  },
  {
   "cell_type": "markdown",
   "metadata": {},
   "source": [
    "# 函数文档\n",
    "- 函数的文档的作用是对当前函数提供使用相关的参考信息\n",
    "- 文档的写法:\n",
    "    - 在函数内部开始的第一行使用三引号字符串定义符\n",
    "    - 一般具有特定格式\n",
    "    - 参看实例\n",
    "- 文档查看\n",
    "    - 使用help函数,例如help(func)\n",
    "    - 使用doc,参看案例"
   ]
  },
  {
   "cell_type": "code",
   "execution_count": 40,
   "metadata": {},
   "outputs": [],
   "source": [
    "# 文档案例\n",
    "def stu(name,age,*args):\n",
    "    '''\n",
    "    这是第一行\n",
    "    这是第二行\n",
    "    这是第三行\n",
    "    '''\n",
    "    print(\"this is 函数 stu\")"
   ]
  },
  {
   "cell_type": "code",
   "execution_count": 42,
   "metadata": {},
   "outputs": [
    {
     "name": "stdout",
     "output_type": "stream",
     "text": [
      "Help on function stu in module __main__:\n",
      "\n",
      "stu(name, age, *args)\n",
      "    这是第一行\n",
      "    这是第二行\n",
      "    这是第三行\n",
      "\n"
     ]
    },
    {
     "data": {
      "text/plain": [
       "'\\n    这是第一行\\n    这是第二行\\n    这是第三行\\n    '"
      ]
     },
     "execution_count": 42,
     "metadata": {},
     "output_type": "execute_result"
    }
   ],
   "source": [
    "#查看函数文档\n",
    "help(stu)\n",
    "stu.__doc__"
   ]
  },
  {
   "cell_type": "code",
   "execution_count": 44,
   "metadata": {},
   "outputs": [
    {
     "name": "stdout",
     "output_type": "stream",
     "text": [
      "Help on function stu in module __main__:\n",
      "\n",
      "stu(name, age)\n",
      "    这是文档的文字内容\n",
      "    :param name:表示学生的姓名\n",
      "    :param age:表示学生的年龄\n",
      "    :return:此函数的返回值\n",
      "\n",
      "None\n",
      "********************\n",
      "\n",
      "    这是文档的文字内容\n",
      "    :param name:表示学生的姓名\n",
      "    :param age:表示学生的年龄\n",
      "    :return:此函数的返回值\n",
      "    \n"
     ]
    }
   ],
   "source": [
    "def stu(name,age):\n",
    "    '''\n",
    "    这是文档的文字内容\n",
    "    :param name:表示学生的姓名\n",
    "    :param age:表示学生的年龄\n",
    "    :return:此函数的返回值\n",
    "    '''\n",
    "    pass\n",
    "print(help(stu))\n",
    "print(\"*\"*20)\n",
    "print(stu.__doc__)"
   ]
  },
  {
   "cell_type": "code",
   "execution_count": null,
   "metadata": {},
   "outputs": [],
   "source": []
  }
 ],
 "metadata": {
  "kernelspec": {
   "display_name": "Python 3",
   "language": "python",
   "name": "python3"
  },
  "language_info": {
   "codemirror_mode": {
    "name": "ipython",
    "version": 3
   },
   "file_extension": ".py",
   "mimetype": "text/x-python",
   "name": "python",
   "nbconvert_exporter": "python",
   "pygments_lexer": "ipython3",
   "version": "3.7.0"
  }
 },
 "nbformat": 4,
 "nbformat_minor": 2
}
