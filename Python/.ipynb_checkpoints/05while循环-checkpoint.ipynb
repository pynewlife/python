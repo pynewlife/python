{
 "cells": [
  {
   "cell_type": "markdown",
   "metadata": {},
   "source": [
    "# while循环\n",
    "- 一个循环语句\n",
    "- 当符合某条件时候就开始循环\n",
    "- 不知道循环的次数,但能确定循环成立的条件的时候就用while\n",
    "- while语法:\n",
    "    \n",
    "        while 条件表达式:\n",
    "              语句\n",
    "              \n",
    "        #还有另外一种形式\n",
    "        \n",
    "        while 条件表达式:\n",
    "            语句1\n",
    "        else:\n",
    "            语句2"
   ]
  },
  {
   "cell_type": "code",
   "execution_count": 2,
   "metadata": {},
   "outputs": [
    {
     "name": "stdout",
     "output_type": "stream",
     "text": [
      "第1年就有106700.0了\n",
      "第2年就有113848.9了\n",
      "第3年就有121476.7763了\n",
      "第4年就有129615.72031209999了\n",
      "第5年就有138299.9735730107了\n",
      "第6年就有147566.07180240244了\n",
      "第7年就有157452.9986131634了\n",
      "第8年就有168002.34952024533了\n",
      "第9年就有179258.50693810178了\n",
      "第10年就有191268.8269029546了\n",
      "第11年就有204083.83830545258了\n"
     ]
    }
   ],
   "source": [
    "# 如果是年利率是6.7,则多少年后会翻倍.\n",
    "本钱 = 100000\n",
    "year = 0\n",
    "while 本钱 < 200000:\n",
    "    本钱 = 本钱+本钱*0.067\n",
    "    year += 1\n",
    "    print(\"第{0}年就有{1}了\".format(year,本钱))"
   ]
  },
  {
   "cell_type": "code",
   "execution_count": 3,
   "metadata": {},
   "outputs": [
    {
     "name": "stdout",
     "output_type": "stream",
     "text": [
      "第1年就有106700.0了\n",
      "第2年就有113848.9了\n",
      "第3年就有121476.7763了\n",
      "第4年就有129615.72031209999了\n",
      "第5年就有138299.9735730107了\n",
      "第6年就有147566.07180240244了\n",
      "第7年就有157452.9986131634了\n",
      "第8年就有168002.34952024533了\n",
      "第9年就有179258.50693810178了\n",
      "第10年就有191268.8269029546了\n",
      "第11年就有204083.83830545258了\n",
      "庆祝一下,大爷的10年了才翻倍\n"
     ]
    }
   ],
   "source": [
    "# 如果是年利率是6.7,则多少年后会翻倍.\n",
    "# 如果翻倍就打印 庆祝一下\n",
    "本钱 = 100000\n",
    "year = 0\n",
    "while 本钱 < 200000:\n",
    "    本钱 = 本钱+本钱*0.067\n",
    "    year += 1\n",
    "    print(\"第{0}年就有{1}了\".format(year,本钱))\n",
    "else:\n",
    "    print(\"庆祝一下,大爷的10年了才翻倍\")"
   ]
  },
  {
   "cell_type": "markdown",
   "metadata": {},
   "source": [
    "# 函数\n",
    "- 代码的一种组织形式\n",
    "- 一个函数一般会完成一定的功能\n",
    "- 函数使用\n",
    "    - 函数需要先定义\n",
    "    - 函数调用\n"
   ]
  },
  {
   "cell_type": "code",
   "execution_count": 4,
   "metadata": {},
   "outputs": [],
   "source": [
    "#定义一个函数\n",
    "#只定义不会执行\n",
    "#def是定义函数的 关键字\n",
    "#函数名,自定义,起名按照定义规则\n",
    "#后面冒号和括号不能丢\n",
    "#函数所有的代码缩进\n",
    "def func():\n",
    "    print(\"我是一个函数\")\n",
    "    print(\"我要完成一个功能\")\n",
    "    print(\"我结束了\")"
   ]
  },
  {
   "cell_type": "code",
   "execution_count": 5,
   "metadata": {},
   "outputs": [
    {
     "name": "stdout",
     "output_type": "stream",
     "text": [
      "我是一个函数\n",
      "我要完成一个功能\n",
      "我结束了\n"
     ]
    }
   ],
   "source": [
    "# 函数的调用\n",
    "# 直接函数名加一个括号\n",
    "func()"
   ]
  },
  {
   "cell_type": "markdown",
   "metadata": {},
   "source": [
    "### 函数的返回值\n",
    "- 参数 负责给函数传递一些数据和信息\n",
    "    - 形参(形式参数):在函数定义的是偶用到的参数没有具体值,只是一个占位符,成为形参\n",
    "    - 实参(实际参数):在调用函数输入的值\n",
    "- 返回值 函数的执行结果.\n",
    "    - 使用return关键字\n",
    "    - 如果没有return,默认返回None\n",
    "    - 函数一旦return,则无条件返回,即函数结束"
   ]
  },
  {
   "cell_type": "code",
   "execution_count": 6,
   "metadata": {},
   "outputs": [
    {
     "name": "stdout",
     "output_type": "stream",
     "text": [
      "明月,你怎么了\n",
      "sir,你不理我,我就走了\n"
     ]
    }
   ],
   "source": [
    "# 参数的用法和使用\n",
    "# 参数person只是一个符号,代表的是调用的是一个数据\n",
    "# 调用的时候会用p代理函数中所有的person\n",
    "def hello(person):\n",
    "    print(\"{0},你怎么了\".format(person))\n",
    "    print(\"sir,你不理我,我就走了\")\n",
    "p = \"明月\"\n",
    "hello(p)"
   ]
  },
  {
   "cell_type": "code",
   "execution_count": 30,
   "metadata": {},
   "outputs": [
    {
     "name": "stdout",
     "output_type": "stream",
     "text": [
      "明月,你怎么了\n",
      "sir,你不理我,我就走了\n",
      "我已经和明月打过招呼了\n"
     ]
    }
   ],
   "source": [
    "# return语句的基本使用\n",
    "# 打完招呼以后会返回一句话\n",
    "def hello(person):\n",
    "    print(\"{0},你怎么了\".format(person))\n",
    "    print(\"sir,你不理我,我就走了\")\n",
    "    return \"我已经和{0}打过招呼了\".format(person)\n",
    "p = \"明月\"\n",
    "rst = hello(p)\n",
    "print(rst)"
   ]
  },
  {
   "cell_type": "code",
   "execution_count": 31,
   "metadata": {},
   "outputs": [
    {
     "name": "stdout",
     "output_type": "stream",
     "text": [
      "Help on built-in function print in module builtins:\n",
      "\n",
      "print(...)\n",
      "    print(value, ..., sep=' ', end='\\n', file=sys.stdout, flush=False)\n",
      "    \n",
      "    Prints the values to a stream, or to sys.stdout by default.\n",
      "    Optional keyword arguments:\n",
      "    file:  a file-like object (stream); defaults to the current sys.stdout.\n",
      "    sep:   string inserted between values, default a space.\n",
      "    end:   string appended after the last value, default a newline.\n",
      "    flush: whether to forcibly flush the stream.\n",
      "\n"
     ]
    }
   ],
   "source": [
    "# 查找函数文档\n",
    "# help(print)\n",
    "help(print)"
   ]
  },
  {
   "cell_type": "code",
   "execution_count": 8,
   "metadata": {},
   "outputs": [
    {
     "name": "stdout",
     "output_type": "stream",
     "text": [
      "明月,你怎么了\n",
      "我提前结束了!拜拜!\n"
     ]
    }
   ],
   "source": [
    "# 函数例子2 \n",
    "def hello(person):\n",
    "    print(\"{0},你怎么了\".format(person))\n",
    "    return \"我提前结束了!拜拜!\"\n",
    "    print(\"sir,你不理我,我就走了\")\n",
    "    return \"我已经和{0}打过招呼了\".format(person)\n",
    "p = \"明月\"\n",
    "rst = hello(p)\n",
    "print(rst)"
   ]
  },
  {
   "cell_type": "code",
   "execution_count": 41,
   "metadata": {},
   "outputs": [
    {
     "name": "stdout",
     "output_type": "stream",
     "text": [
      "1*1=1  \n",
      "2*1=2 2*2=4  \n",
      "3*1=3 3*2=6 3*3=9  \n",
      "4*1=4 4*2=8 4*3=12 4*4=16  \n",
      "5*1=5 5*2=10 5*3=15 5*4=20 5*5=25  \n",
      "6*1=6 6*2=12 6*3=18 6*4=24 6*5=30 6*6=36  \n",
      "7*1=7 7*2=14 7*3=21 7*4=28 7*5=35 7*6=42 7*7=49  \n",
      "8*1=8 8*2=16 8*3=24 8*4=32 8*5=40 8*6=48 8*7=56 8*8=64  \n",
      "9*1=9 9*2=18 9*3=27 9*4=36 9*5=45 9*6=54 9*7=63 9*8=72 9*9=81  \n"
     ]
    }
   ],
   "source": [
    "#九九乘法表\n",
    "for i in range(1,10):\n",
    "    for j in range(1,i+1):\n",
    "        print(\"{0}*{1}={2}\".format(i,j,i*j),end =\" \")\n",
    "    print(\" \")\n",
    "\n",
    "    "
   ]
  },
  {
   "cell_type": "code",
   "execution_count": 42,
   "metadata": {},
   "outputs": [
    {
     "name": "stdout",
     "output_type": "stream",
     "text": [
      " \n",
      "\n",
      "1*1=1  \n",
      "-------\n",
      "1*2=2 2*2=4  \n",
      "--------------\n",
      "1*3=3 2*3=6 3*3=9  \n",
      "---------------------\n",
      "1*4=4 2*4=8 3*4=12 4*4=16  \n",
      "----------------------------\n",
      "1*5=5 2*5=10 3*5=15 4*5=20 5*5=25  \n",
      "-----------------------------------\n",
      "1*6=6 2*6=12 3*6=18 4*6=24 5*6=30 6*6=36  \n",
      "------------------------------------------\n",
      "1*7=7 2*7=14 3*7=21 4*7=28 5*7=35 6*7=42 7*7=49  \n",
      "-------------------------------------------------\n",
      "1*8=8 2*8=16 3*8=24 4*8=32 5*8=40 6*8=48 7*8=56 8*8=64  \n",
      "--------------------------------------------------------\n",
      "1*9=9 2*9=18 3*9=27 4*9=36 5*9=45 6*9=54 7*9=63 8*9=72 9*9=81  \n",
      "---------------------------------------------------------------\n"
     ]
    }
   ],
   "source": [
    "#九九乘法表-函数法\n",
    "def printline(row):\n",
    "    for col in range(1,row+1):\n",
    "        print(\"{0}*{1}={2}\".format(col,row,col*row),end=\" \")\n",
    "for row in range(0,10):\n",
    "    printline(row)\n",
    "    print(\" \")\n",
    "    print(\"-------\"*row)\n",
    "        "
   ]
  },
  {
   "cell_type": "markdown",
   "metadata": {},
   "source": [
    "## 参数详解\n",
    "- 参考资料(https://www.cnblogs.com/bingabcd/p/6671368.html)\n",
    "- python参考资料： headfirst python -> 零基础入门学习--python（小甲鱼),本讲义参考的是流畅的python-->习题-->后期可以考虑腾讯公开免费课\n",
    "- 参数分类\n",
    "    - 普通参数\n",
    "    - 默认参数\n",
    "    - 关键字参数\n",
    "    - 收集参数\n",
    "- 普通参数\n",
    "    - 参见上边的例子\n",
    "    - 定义的时候直接定义变量名\n",
    "    - 调用的时候直接把变量或者值放到指定位置\n",
    "            \n",
    "            def 函数名(参数1,参数2,.....)\n",
    "                函数体\n",
    "            #调用\n",
    "            函数名(value1,value2,.......)\n",
    "            #调用的时候,具体值参考的位置,按位置赋值\n",
    "- 默认参数\n",
    "    - 形参具有默认值\n",
    "    - 调用的时候,如果没有赋值,那就用默认值\n",
    "    \n",
    "                def func_name(p1=v1,p2=v2.........):\n",
    "                    func_block\n",
    "                #调用1\n",
    "                func_name()\n",
    "                \n",
    "                #调用2\n",
    "                value1 = 100\n",
    "                value2 = 200\n",
    "                func_name(value1,value2)"
   ]
  },
  {
   "cell_type": "code",
   "execution_count": 45,
   "metadata": {},
   "outputs": [],
   "source": [
    "# 默认参数实例\n",
    "# 报名函数 报名的时候需要知道学生性别\n",
    "# 学习Python的大部分是男的,所以不特别指定就是男的\n",
    "def reg(name,age,gender=\"male\"):\n",
    "    if gender == \"male\":\n",
    "        print(\"{0}is(1),and he is good student\".format(name,age))\n",
    "    else:    \n",
    "        print(\"{0}is(1),and she is good student\".format(name,age))\n",
    "    "
   ]
  },
  {
   "cell_type": "code",
   "execution_count": 47,
   "metadata": {},
   "outputs": [
    {
     "name": "stdout",
     "output_type": "stream",
     "text": [
      "mingyueis(1),and she is good student\n"
     ]
    }
   ],
   "source": [
    "#调用实例\n",
    "reg(\"mingyue\",21,\"nv\")"
   ]
  }
 ],
 "metadata": {
  "kernelspec": {
   "display_name": "Python 3",
   "language": "python",
   "name": "python3"
  },
  "language_info": {
   "codemirror_mode": {
    "name": "ipython",
    "version": 3
   },
   "file_extension": ".py",
   "mimetype": "text/x-python",
   "name": "python",
   "nbconvert_exporter": "python",
   "pygments_lexer": "ipython3",
   "version": "3.7.0"
  }
 },
 "nbformat": 4,
 "nbformat_minor": 2
}
