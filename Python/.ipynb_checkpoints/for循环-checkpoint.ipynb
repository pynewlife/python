{
 "cells": [
  {
   "cell_type": "markdown",
   "metadata": {},
   "source": [
    "# 程序机构\n",
    "- 顺序\n",
    "- 分支\n",
    "- 循环"
   ]
  },
  {
   "cell_type": "markdown",
   "metadata": {},
   "source": [
    "# 分支\n",
    "- 分支的基本语法\n",
    "\n",
    "        if 条件表达式:\n",
    "            语句1\n",
    "            语句2\n",
    "            语句3\n",
    "            ........\n",
    "- 条件表达式就是计算结果必须是布尔值的表达式\n",
    "- 表达式后边的冒号不要丢掉\n",
    "- 注意if后面出现的语句，如果属于if语句块，则必须同一个缩进等级\n",
    "- 条件表达式结果为True 执行if后面缩进的语句块\n"
   ]
  },
  {
   "cell_type": "code",
   "execution_count": 1,
   "metadata": {},
   "outputs": [
    {
     "name": "stdout",
     "output_type": "stream",
     "text": [
      "去叫家长吧，孩子\n",
      "我们不带你玩\n",
      "滚球的\n"
     ]
    }
   ],
   "source": [
    "# if语句练习\n",
    "# 如果age小于18岁，则打印信息“去叫家长”\n",
    "age = 17\n",
    "if age < 18 :\n",
    "    print(\"去叫家长吧，孩子\")\n",
    "    print(\"我们不带你玩\")\n",
    "    print(\"滚球的\")"
   ]
  },
  {
   "cell_type": "code",
   "execution_count": 7,
   "metadata": {},
   "outputs": [
    {
     "name": "stdout",
     "output_type": "stream",
     "text": [
      "去叫家长吧，孩子\n",
      "我们不带你玩\n",
      "滚球的\n",
      "开始上车咯，老司机们\n"
     ]
    }
   ],
   "source": [
    "# if语句练习\n",
    "# 如果age小于18岁，则打印信息“去叫家长”\n",
    "age = 15\n",
    "if age < 18 :\n",
    "    print(\"去叫家长吧，孩子\")\n",
    "    print(\"我们不带你玩\")\n",
    "    print(\"滚球的\")\n",
    "print(\"开始上车咯，老司机们\")"
   ]
  },
  {
   "cell_type": "code",
   "execution_count": null,
   "metadata": {},
   "outputs": [],
   "source": [
    "print(\"今天开始学习for循环\")\n",
    "if gender == \"女\"\n",
    "    print(\"来拿糖吃了\")\n",
    "print(\"上课了\")"
   ]
  },
  {
   "cell_type": "markdown",
   "metadata": {},
   "source": [
    "### 双向分支\n",
    "- if....else.....语句\n",
    "\n",
    "        if 条件表达式:\n",
    "            语句1\n",
    "            语句2\n",
    "            ......\n",
    "        else:\n",
    "            语句3\n",
    "            语句4\n",
    "            ......\n",
    "- 双向分支有两个分支，当执行到if....else....语句时候，一定会执行if或者else一部分。\n",
    "- 缩进问题，if和else是一个层级，其余的语句一个层级"
   ]
  },
  {
   "cell_type": "code",
   "execution_count": 9,
   "metadata": {},
   "outputs": [
    {
     "name": "stdout",
     "output_type": "stream",
     "text": [
      "请输入性别:nan\n",
      "你的性别是:nan\n",
      "来纪念，敲代码\n",
      "开始上课咯\n"
     ]
    }
   ],
   "source": [
    "gender = input(\"请输入性别:\")\n",
    "print(\"你的性别是:{0}\".format(gender))\n",
    "if gender == \"nan\":\n",
    "    print(\"来纪念，敲代码\")\n",
    "else:\n",
    "    print(\"发钱咯\")\n",
    "print(\"开始上课咯\")"
   ]
  },
  {
   "cell_type": "code",
   "execution_count": 13,
   "metadata": {},
   "outputs": [
    {
     "name": "stdout",
     "output_type": "stream",
     "text": [
      "请输入成绩:98\n",
      "优秀\n",
      "良好\n",
      "一般\n",
      "及格\n"
     ]
    }
   ],
   "source": [
    "# 考试成绩的判断\n",
    "# 90以上：优秀\n",
    "# 80-90：良好\n",
    "# 70-79 ：一般\n",
    "# 60-69 ：差\n",
    "# 60以下：没有你这傻学生\n",
    "score = input(\"请输入成绩:\")\n",
    "# 转str换成int\n",
    "score = int(score)\n",
    "if score>90 and score<100:\n",
    "    print(\"优秀\")\n",
    "if score>=80 and score<90:\n",
    "    print(\"良好\")\n",
    "if score>=70 and score< 80:\n",
    "    print(\"一般\")\n",
    "if score>=60 and score <70:\n",
    "    print(\"及格\")\n",
    "if score<60:\n",
    "    print(\"傻学生\")"
   ]
  },
  {
   "cell_type": "markdown",
   "metadata": {},
   "source": [
    "## 多路分支\n",
    "### 冷读术\n",
    "- 很多分支的情况，简称多路分支\n",
    "    \n",
    "        if 条件表达式:\n",
    "            语句1\n",
    "            ......\n",
    "        elif 条件表达式:\n",
    "            语句2\n",
    "            .....\n",
    "        elif 条件表达式:\n",
    "            语句3\n",
    "            ....\n",
    "         else:\n",
    "             语句3\n",
    "             ......\n",
    "             \n"
   ]
  },
  {
   "cell_type": "code",
   "execution_count": 15,
   "metadata": {},
   "outputs": [
    {
     "name": "stdout",
     "output_type": "stream",
     "text": [
      "请输入成绩:56\n",
      "傻学生\n"
     ]
    }
   ],
   "source": [
    "score = input(\"请输入成绩:\")\n",
    "# 转str换成int\n",
    "score = int(score)\n",
    "if score>90:\n",
    "    print(\"优秀\")\n",
    "elif score>=80:\n",
    "    print(\"良好\")\n",
    "elif score>=70:\n",
    "    print(\"一般\")\n",
    "elif score>=60:\n",
    "    print(\"及格\")\n",
    "else:\n",
    "    print(\"傻学生\")"
   ]
  },
  {
   "cell_type": "markdown",
   "metadata": {},
   "source": [
    "## if的其他用法\n",
    "- if 语句可以嵌套使用，但是不推荐\n",
    "- Python 没有switch -case 语句"
   ]
  },
  {
   "cell_type": "markdown",
   "metadata": {},
   "source": [
    "# 循环语句\n",
    "- 重复执行某些固定动作或者处理基本固定的事物\n",
    "- 分类\n",
    "    - for循环\n",
    "    - while 循环\n",
    "## for循环\n",
    "- for循环\n",
    "    \n",
    "        for 变量 in 序列:\n",
    "            语句1\n",
    "            语句2\n",
    "            .......\n",
    "            \n",
    "    "
   ]
  },
  {
   "cell_type": "code",
   "execution_count": 18,
   "metadata": {},
   "outputs": [
    {
     "name": "stdout",
     "output_type": "stream",
     "text": [
      "张收\n",
      "丽水\n",
      "王五\n",
      "赵柳\n",
      "liming\n"
     ]
    }
   ],
   "source": [
    "# 列表就是一个数字列或者其他值，一般用中括号表示\n",
    "# 例如[\"张收\",\"丽水\",\"王五\",\"赵柳\",\"liming\"]\n",
    "#打印学生所有名字\n",
    "for name in [\"张收\",\"丽水\",\"王五\",\"赵柳\",\"liming\"]:\n",
    "    print(name)"
   ]
  },
  {
   "cell_type": "code",
   "execution_count": 20,
   "metadata": {},
   "outputs": [
    {
     "name": "stdout",
     "output_type": "stream",
     "text": [
      "张收\n",
      "张收就是张三他爸\n",
      "丽水\n",
      "一般凉快去\n",
      "王五\n",
      "一般凉快去\n",
      "赵柳\n",
      "一般凉快去\n",
      "liming\n",
      "一般凉快去\n"
     ]
    }
   ],
   "source": [
    "#打印学生列表\n",
    "#如果是张收，那是张三他爸\n",
    "#如果不是就一边凉快去\n",
    "for name in [\"张收\",\"丽水\",\"王五\",\"赵柳\",\"liming\"]:\n",
    "    print(name)\n",
    "    if name == \"张收\":\n",
    "        print(\"{0}就是张三他爸\".format(name))\n",
    "    else:\n",
    "        print(\"一般凉快去\")"
   ]
  },
  {
   "cell_type": "markdown",
   "metadata": {},
   "source": [
    "## range介绍\n",
    "- 生成一个数字序列\n",
    "- 具体范围可以限定"
   ]
  },
  {
   "cell_type": "code",
   "execution_count": 22,
   "metadata": {},
   "outputs": [
    {
     "name": "stdout",
     "output_type": "stream",
     "text": [
      "1\n",
      "2\n",
      "3\n",
      "4\n",
      "5\n",
      "6\n",
      "7\n",
      "8\n",
      "9\n",
      "10\n"
     ]
    }
   ],
   "source": [
    "# range练习\n",
    "# 打印1-10 的数字\n",
    "# 注意 一般Python中表示数字范围一般包含左边的不包含右边的数字。randint是特例都包含\n",
    "# range函数在Python和Python 3中有很大区别\n",
    "for i in range(1,11):\n",
    "    print(i)"
   ]
  },
  {
   "cell_type": "markdown",
   "metadata": {},
   "source": [
    "## for--else语句\n",
    "- 当for循环结束的时候运行else语句\n",
    "- else是可选的语句"
   ]
  },
  {
   "cell_type": "code",
   "execution_count": 24,
   "metadata": {},
   "outputs": [
    {
     "name": "stdout",
     "output_type": "stream",
     "text": [
      "张收\n",
      "张收就是张三他爸\n",
      "丽水\n",
      "一般凉快去\n",
      "王五\n",
      "一般凉快去\n",
      "赵柳\n",
      "一般凉快去\n",
      "liming\n",
      "一般凉快去\n",
      "所有的学生都在这里了\n"
     ]
    }
   ],
   "source": [
    "# for-else语句\n",
    "#打印列表中的同学\n",
    "#如果没有在列表中的给出提示语句，表示不在了。\n",
    "for name in [\"张收\",\"丽水\",\"王五\",\"赵柳\",\"liming\"]:\n",
    "    print(name)\n",
    "    if name == \"张收\":\n",
    "        print(\"{0}就是张三他爸\".format(name))\n",
    "    else:\n",
    "        print(\"一般凉快去\")\n",
    "else:\n",
    "    print(\"所有的学生都在这里了\")"
   ]
  },
  {
   "cell_type": "markdown",
   "metadata": {},
   "source": [
    "## for循环之 break,continue,pass\n",
    "- break: 无条件结束整个循环,简称循环猝死\n",
    "- continue: 无条件结束本次循环,重新进入下一轮\n",
    "- pass: 表里略过\n",
    "    \n",
    "    "
   ]
  },
  {
   "cell_type": "code",
   "execution_count": 31,
   "metadata": {},
   "outputs": [
    {
     "name": "stdout",
     "output_type": "stream",
     "text": [
      "1 i love 王晓丽\n",
      "2 i love 王晓丽\n",
      "3 i love 王晓丽\n",
      "4 i love 王晓丽\n",
      "5 i love 王晓丽\n",
      "6 i love 王晓丽\n",
      "我就是数字7\n"
     ]
    }
   ],
   "source": [
    "# 在1-10的数字中寻找数字7 一旦找到打印出来,其余的什么都不做\n",
    "# 在循环中的变量表示,一般用 i k m n 或者indx idx item之类\n",
    "# Python中如果循环变量名称不重要可以用_来代替\n",
    "for i in range(1,11):\n",
    "    if i == 7:\n",
    "        print(\"我就是数字7\")\n",
    "        break\n",
    "    else:\n",
    "        print(i,\"i love 王晓丽\")"
   ]
  },
  {
   "cell_type": "code",
   "execution_count": 33,
   "metadata": {},
   "outputs": [
    {
     "name": "stdout",
     "output_type": "stream",
     "text": [
      "我就是奇数1\n",
      "我是偶数2\n",
      "我就是奇数3\n",
      "我是偶数4\n",
      "我就是奇数5\n",
      "我是偶数6\n",
      "我就是奇数7\n",
      "我是偶数8\n",
      "我就是奇数9\n",
      "我是偶数10\n"
     ]
    }
   ],
   "source": [
    "# continue语句练习\n",
    "# 在1-10的数字中寻找所有偶数,一旦找到打印出来,其余的什么都不做\n",
    "# 取余2是0 就打印.\n",
    "for i in range(1,11):\n",
    "    if i % 2 == 1:\n",
    "        print(\"我就是奇数{0}\".format(i))\n",
    "        continue\n",
    "    else:\n",
    "        print(\"我是偶数{0}\".format(i))"
   ]
  },
  {
   "cell_type": "code",
   "execution_count": 34,
   "metadata": {},
   "outputs": [
    {
     "name": "stdout",
     "output_type": "stream",
     "text": [
      "我是偶数2\n",
      "我是偶数4\n",
      "我是偶数6\n",
      "我是偶数8\n",
      "我是偶数10\n"
     ]
    }
   ],
   "source": [
    "# continue语句练习\n",
    "# 在1-10的数字中寻找所有偶数,一旦找到打印出来,其余的什么都不做\n",
    "# 取余2是0 就打印.\n",
    "for i in range(1,11):\n",
    "    if i % 2 == 1:\n",
    "        continue\n",
    "    print(\"我是偶数{0}\".format(i))"
   ]
  },
  {
   "cell_type": "code",
   "execution_count": null,
   "metadata": {},
   "outputs": [],
   "source": [
    "# pass例子 一般用于占位\n",
    "# pass没有略过功能\n"
   ]
  },
  {
   "cell_type": "code",
   "execution_count": null,
   "metadata": {},
   "outputs": [],
   "source": []
  }
 ],
 "metadata": {
  "kernelspec": {
   "display_name": "Python 3",
   "language": "python",
   "name": "python3"
  },
  "language_info": {
   "codemirror_mode": {
    "name": "ipython",
    "version": 3
   },
   "file_extension": ".py",
   "mimetype": "text/x-python",
   "name": "python",
   "nbconvert_exporter": "python",
   "pygments_lexer": "ipython3",
   "version": "3.7.0"
  }
 },
 "nbformat": 4,
 "nbformat_minor": 2
}
