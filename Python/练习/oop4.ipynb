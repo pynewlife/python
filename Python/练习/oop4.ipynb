{
 "cells": [
  {
   "cell_type": "code",
   "execution_count": null,
   "metadata": {
    "collapsed": true
   },
   "outputs": [],
   "source": [
    "# 属性案例\n",
    "# 创建student类,描述学生类\n",
    "# 学生具有Student.name属性\n",
    "# name的格式不统一\n",
    "class student():\n",
    "\tdef __init__(self,name,age):\n",
    "        self.name = name\n",
    "        self.age = 18\n",
    "    #介绍下自己\n",
    "    def intro(self):\n",
    "        print(\"hai my name is {0}\".format(self))\n",
    "s1 = student(\"liu xing\",19)\n",
    "s2 = student(\"michi stangle\",24)\n",
    "s1.intro()\n",
    "s2.intro()"
   ]
  }
 ],
 "metadata": {
  "kernelspec": {
   "display_name": "Python 2",
   "language": "python",
   "name": "python2"
  },
  "language_info": {
   "codemirror_mode": {
    "name": "ipython",
    "version": 2
   },
   "file_extension": ".py",
   "mimetype": "text/x-python",
   "name": "python",
   "nbconvert_exporter": "python",
   "pygments_lexer": "ipython2",
   "version": "2.7.6"
  }
 },
 "nbformat": 4,
 "nbformat_minor": 0
}
