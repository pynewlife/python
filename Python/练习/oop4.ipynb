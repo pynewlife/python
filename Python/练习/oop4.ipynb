{
 "cells": [
  {
   "cell_type": "code",
   "execution_count": 2,
   "metadata": {
    "scrolled": true
   },
   "outputs": [
    {
     "name": "stdout",
     "output_type": "stream",
     "text": [
      "hai my name is liu xing\n",
      "hai my name is michi stangle\n"
     ]
    }
   ],
   "source": [
    "# 属性案例\n",
    "# 创建student类,描述学生类\n",
    "# 学生具有Student.name属性\n",
    "# name的格式不统一\n",
    "class student():\n",
    "    def __init__(self,name,age):\n",
    "        self.name = name\n",
    "        self.age = 18\n",
    "    #介绍下自己\n",
    "    def intro(self):\n",
    "        print(\"hai my name is {0}\".format(self.name))\n",
    "s1 = student(\"liu xing\",19)\n",
    "s2 = student(\"michi stangle\",24)\n",
    "s1.intro()\n",
    "s2.intro()"
   ]
  },
  {
   "cell_type": "code",
   "execution_count": 7,
   "metadata": {},
   "outputs": [
    {
     "name": "stdout",
     "output_type": "stream",
     "text": [
      "1\n",
      "2\n",
      "TULINGTULING\n"
     ]
    }
   ],
   "source": [
    "# peroperty\n",
    "# 定义一个Person类 具有name age 属性\n",
    "# 对于任意输入的姓名我们用大写保存\n",
    "# 年龄 同意用整数保存\n",
    "# x =  property(fget,fset,fdel,doc)\n",
    "class Person():\n",
    "    def fget(self):\n",
    "        print(2)\n",
    "        return self._name*2\n",
    "        \n",
    "    def fset(self,name):\n",
    "        self._name= name.upper()\n",
    "        print(1)\n",
    "    def fdel(self):\n",
    "        self._name = \"noname\"\n",
    "    name = property(fget,fset,fdel,\"对name进行操作\")\n",
    "p = Person()\n",
    "p.name = \"tuling\"\n",
    "print(p.name)"
   ]
  },
  {
   "cell_type": "code",
   "execution_count": null,
   "metadata": {},
   "outputs": [],
   "source": []
  },
  {
   "cell_type": "code",
   "execution_count": null,
   "metadata": {},
   "outputs": [],
   "source": []
  },
  {
   "cell_type": "code",
   "execution_count": null,
   "metadata": {},
   "outputs": [],
   "source": []
  },
  {
   "cell_type": "code",
   "execution_count": null,
   "metadata": {},
   "outputs": [],
   "source": []
  },
  {
   "cell_type": "code",
   "execution_count": null,
   "metadata": {},
   "outputs": [],
   "source": []
  },
  {
   "cell_type": "code",
   "execution_count": null,
   "metadata": {},
   "outputs": [],
   "source": []
  }
 ],
 "metadata": {
  "kernelspec": {
   "display_name": "Python 3",
   "language": "python",
   "name": "python3"
  },
  "language_info": {
   "codemirror_mode": {
    "name": "ipython",
    "version": 3
   },
   "file_extension": ".py",
   "mimetype": "text/x-python",
   "name": "python",
   "nbconvert_exporter": "python",
   "pygments_lexer": "ipython3",
   "version": "3.7.0"
  }
 },
 "nbformat": 4,
 "nbformat_minor": 1
}
