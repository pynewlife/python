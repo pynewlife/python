{
 "cells": [
  {
   "cell_type": "markdown",
   "metadata": {},
   "source": [
    "# 变量的作用域\n",
    "- 变量有作用范围的限制\n",
    "- 分类 按照作用域分类\n",
    "    - 全局(global):在函数外部定义\n",
    "    - 局部(local):函数内部定义\n",
    "- 变量的作用范围\n",
    "    - 全局: 在整个全局范围都有效\n",
    "    - 全局变量可以在局部可以使用,函数内部也可以使用.\n",
    "    - 局部变量在局部可以使用\n",
    "    - 局部变量在全局无法使用\n",
    "- LEGB原则\n",
    "    - L 局部作用域\n",
    "    - E 外部嵌套函数作用域\n",
    "    - G 函数定义所在的模块作用域\n",
    "    - B building作用域\n",
    "#  提升变量为全局变量"
   ]
  },
  {
   "cell_type": "code",
   "execution_count": 2,
   "metadata": {},
   "outputs": [],
   "source": [
    "#作用域的使用方法\n",
    "a1 = 100\n",
    "def fuc():\n",
    "    print(a1)\n",
    "    a2 = 99\n",
    "    print(a2)"
   ]
  },
  {
   "cell_type": "code",
   "execution_count": 4,
   "metadata": {},
   "outputs": [
    {
     "name": "stdout",
     "output_type": "stream",
     "text": [
      "100\n",
      "99\n"
     ]
    }
   ],
   "source": [
    "fuc()"
   ]
  },
  {
   "cell_type": "markdown",
   "metadata": {},
   "source": [
    "# globals和locals函数\n",
    "- 可以通过globals和locals函数来显示变量\n",
    "参考下列案例\n"
   ]
  },
  {
   "cell_type": "code",
   "execution_count": 6,
   "metadata": {},
   "outputs": [
    {
     "name": "stdout",
     "output_type": "stream",
     "text": [
      "locals={'c': 100, 'd': 200, 'e': 111}\n",
      "globals={'__name__': '__main__', '__doc__': 'Automatically created module for IPython interactive environment', '__package__': None, '__loader__': None, '__spec__': None, '__builtin__': <module 'builtins' (built-in)>, '__builtins__': <module 'builtins' (built-in)>, '_ih': ['', '#作用域的使用方法\\na1 = 100\\ndef fuc():\\n    print(a1)\\n    a2 = 99\\n    \\nprint(a2)', '#作用域的使用方法\\na1 = 100\\ndef fuc():\\n    print(a1)\\n    a2 = 99\\n    print(a2)', 'fun()', 'fuc()', '# globals  和 locals\\n#globals 和\\na = 1 \\nb = 2\\n\\ndef func(c,d):\\n    e = 111\\n    print(\"locals={0}\".format(locals))\\n    print(\"globals={0}\".format(locals))\\nfunc(a,b)', '# globals  和 locals\\n#globals 和\\na = 1 \\nb = 2\\n\\ndef func(c,d):\\n    e = 111\\n    print(\"locals={0}\".format(locals()))\\n    print(\"globals={0}\".format(globals()))\\nfunc(100,200)'], '_oh': {}, '_dh': ['C:\\\\Users\\\\Raran\\\\Python'], 'In': ['', '#作用域的使用方法\\na1 = 100\\ndef fuc():\\n    print(a1)\\n    a2 = 99\\n    \\nprint(a2)', '#作用域的使用方法\\na1 = 100\\ndef fuc():\\n    print(a1)\\n    a2 = 99\\n    print(a2)', 'fun()', 'fuc()', '# globals  和 locals\\n#globals 和\\na = 1 \\nb = 2\\n\\ndef func(c,d):\\n    e = 111\\n    print(\"locals={0}\".format(locals))\\n    print(\"globals={0}\".format(locals))\\nfunc(a,b)', '# globals  和 locals\\n#globals 和\\na = 1 \\nb = 2\\n\\ndef func(c,d):\\n    e = 111\\n    print(\"locals={0}\".format(locals()))\\n    print(\"globals={0}\".format(globals()))\\nfunc(100,200)'], 'Out': {}, 'get_ipython': <bound method InteractiveShell.get_ipython of <ipykernel.zmqshell.ZMQInteractiveShell object at 0x000001BE138F4E80>>, 'exit': <IPython.core.autocall.ZMQExitAutocall object at 0x000001BE1570F8D0>, 'quit': <IPython.core.autocall.ZMQExitAutocall object at 0x000001BE1570F8D0>, '_': '', '__': '', '___': '', '_i': '# globals  和 locals\\n#globals 和\\na = 1 \\nb = 2\\n\\ndef func(c,d):\\n    e = 111\\n    print(\"locals={0}\".format(locals))\\n    print(\"globals={0}\".format(locals))\\nfunc(a,b)', '_ii': 'fuc()', '_iii': 'fun()', '_i1': '#作用域的使用方法\\na1 = 100\\ndef fuc():\\n    print(a1)\\n    a2 = 99\\n    \\nprint(a2)', 'a1': 100, 'fuc': <function fuc at 0x000001BE1589D8C8>, '_i2': '#作用域的使用方法\\na1 = 100\\ndef fuc():\\n    print(a1)\\n    a2 = 99\\n    print(a2)', '_i3': 'fun()', '_i4': 'fuc()', '_i5': '# globals  和 locals\\n#globals 和\\na = 1 \\nb = 2\\n\\ndef func(c,d):\\n    e = 111\\n    print(\"locals={0}\".format(locals))\\n    print(\"globals={0}\".format(locals))\\nfunc(a,b)', 'a': 1, 'b': 2, 'func': <function func at 0x000001BE1589D9D8>, '_i6': '# globals  和 locals\\n#globals 和\\na = 1 \\nb = 2\\n\\ndef func(c,d):\\n    e = 111\\n    print(\"locals={0}\".format(locals()))\\n    print(\"globals={0}\".format(globals()))\\nfunc(100,200)'}\n"
     ]
    }
   ],
   "source": [
    "# globals  和 locals\n",
    "#globals 和\n",
    "a = 1 \n",
    "b = 2\n",
    "\n",
    "def func(c,d):\n",
    "    e = 111\n",
    "    print(\"locals={0}\".format(locals()))\n",
    "    print(\"globals={0}\".format(globals()))\n",
    "func(100,200)"
   ]
  },
  {
   "cell_type": "markdown",
   "metadata": {},
   "source": [
    "# eval()\n",
    "- 把一个字符串当做代码,返回表达式执行的结果\n",
    "- 语法\n",
    "\n",
    "            eval(string_code,gloabls=None,locals=none)\n",
    "# exec()\n",
    "- 把一个字符串当做代码,没有返回结果"
   ]
  },
  {
   "cell_type": "code",
   "execution_count": 11,
   "metadata": {},
   "outputs": [
    {
     "name": "stdout",
     "output_type": "stream",
     "text": [
      "x+y = 300\n",
      "20000\n",
      "300\n",
      "None\n"
     ]
    }
   ],
   "source": [
    "x = 100\n",
    "y = 200\n",
    "#执行x*y\n",
    "z2 = exec(\"print('x+y =',x+y)\")\n",
    "print(x*y)\n",
    "print(eval(\"x+y\"))\n",
    "print(exec(\"x+y\"))"
   ]
  },
  {
   "cell_type": "markdown",
   "metadata": {},
   "source": [
    "# 递归函数\n",
    "- 函数直接或者间接调用自身\n",
    "- 优点:间接,理解容易\n",
    "- 缺点:有递归深度限制,消耗资源大\n",
    "- Python对深度有限制,超过深度会报错."
   ]
  },
  {
   "cell_type": "code",
   "execution_count": 15,
   "metadata": {},
   "outputs": [
    {
     "name": "stdout",
     "output_type": "stream",
     "text": [
      "1\n",
      "2\n",
      "3\n",
      "4\n",
      "5\n",
      "6\n",
      "7\n",
      "8\n",
      "9\n",
      "10\n"
     ]
    }
   ],
   "source": [
    "# 递归深度限制代码\n",
    "x = 0 \n",
    "def fun():\n",
    "    global x\n",
    "    x+= 1\n",
    "    print(x)\n",
    "    if x < 10:\n",
    "        fun()\n",
    "#调用\n",
    "fun()"
   ]
  },
  {
   "cell_type": "code",
   "execution_count": 31,
   "metadata": {},
   "outputs": [
    {
     "name": "stdout",
     "output_type": "stream",
     "text": [
      "请输入大于0的数字\n",
      "None\n"
     ]
    }
   ],
   "source": [
    "# 斐波那些数列\n",
    "# 一列是数字 1,1,2,3,5,8,13,........\n",
    "# 数学公式:f(1)=1,f(2)=1,f(n)=f(n-1)+f(n-2)\n",
    "#第n个斐波那些数列的值\n",
    "def fib(n):\n",
    "          if n == 1:\n",
    "            return 1\n",
    "          if n == 2:\n",
    "            return 1\n",
    "          if n <= 0:\n",
    "                print(\"请输入大于0的数字\")\n",
    "        #为什么后边return可以执行不用else\n",
    "          if n > 1:\n",
    "            return fib(n-1)+fib(n-2)\n",
    "print(fib(0))"
   ]
  },
  {
   "cell_type": "markdown",
   "metadata": {},
   "source": [
    "# 内置数据结构\n",
    "- list\n",
    "- set \n",
    "- dict\n",
    "- tuple\n",
    "## 列表\n",
    "- 一组由书序的数据的组合\n",
    "- 创建列表\n",
    "    - 空列表\n",
    "        "
   ]
  },
  {
   "cell_type": "code",
   "execution_count": 34,
   "metadata": {},
   "outputs": [
    {
     "name": "stdout",
     "output_type": "stream",
     "text": [
      "<class 'list'>\n",
      "<class 'list'>\n",
      "[100]\n",
      "<class 'list'>\n",
      "[1, 2, 3, 4, 5, 56, 66, 6666]\n",
      "<class 'list'>\n",
      "[]\n"
     ]
    }
   ],
   "source": [
    "#创建空列表\n",
    "l1 = []\n",
    "print(type(l1))\n",
    "#创建带值的列表\n",
    "l2 = [100]\n",
    "print(type(l2))\n",
    "print(l2)\n",
    "#带多个值\n",
    "l3 = [1,2,3,4,5,56,66,6666]\n",
    "print(type(l3))\n",
    "print(l3)\n",
    "#使用list()创建\n",
    "l4 = list()\n",
    "print(type(l4))\n",
    "print(l4)"
   ]
  },
  {
   "cell_type": "markdown",
   "metadata": {},
   "source": [
    "## 列表的操作\n",
    "- 访问\n",
    "    - 使用下标操作(索引)\n",
    "    - 下标从零开始\n",
    "- 分片操作\n",
    "    - 对列表进行任意一段的截取\n",
    "    - l[:]"
   ]
  },
  {
   "cell_type": "code",
   "execution_count": 36,
   "metadata": {},
   "outputs": [
    {
     "name": "stdout",
     "output_type": "stream",
     "text": [
      "3\n",
      "1\n"
     ]
    }
   ],
   "source": [
    "#下标访问列表\n",
    "l = [1,2,3,4,5,6,7,8,9]\n",
    "print(l[2])\n",
    "print(l[0])"
   ]
  },
  {
   "cell_type": "code",
   "execution_count": 40,
   "metadata": {},
   "outputs": [
    {
     "name": "stdout",
     "output_type": "stream",
     "text": [
      "[2, 3, 4]\n",
      "[1, 2, 3, 4, 5, 6, 7, 8, 9]\n",
      "[1, 2, 3, 4]\n"
     ]
    }
   ],
   "source": [
    "#分片操作\n",
    "#范围含左不含右\n",
    "print(l[1:4])\n",
    "#下标可以不写为空,如果不写默认为0,右边不写就是最大值加1\n",
    "print(l[:])\n",
    "print(l[:4])\n"
   ]
  },
  {
   "cell_type": "code",
   "execution_count": 53,
   "metadata": {},
   "outputs": [
    {
     "name": "stdout",
     "output_type": "stream",
     "text": [
      "[2, 3, 4, 5, 6]\n",
      "[2, 4, 6]\n",
      "[2, 4, 6, 8]\n",
      "[1]\n"
     ]
    }
   ],
   "source": [
    "# 分片可以控制增长的幅度\n",
    "print(l[1:6:1])\n",
    "print(l[1:6:2])\n",
    "# 下边可以超出范围,超出不再考虑下标内容\n",
    "print(l[1:10:2])\n",
    "#下标的值活着增长幅度都可以是负数\n",
    "#规定:数组最后一个数字的下标为-1\n",
    "#次提供了一个数列颠倒顺序的方法\n",
    "print(l[-9:1:2])"
   ]
  },
  {
   "cell_type": "markdown",
   "metadata": {},
   "source": [
    "## 分片操作实际是生成了一个list\n",
    "- 内置函数ID 是负责显示一个变量或者数据的唯一确定的编号\n"
   ]
  },
  {
   "cell_type": "code",
   "execution_count": 56,
   "metadata": {},
   "outputs": [
    {
     "name": "stdout",
     "output_type": "stream",
     "text": [
      "140729951779680\n",
      "140729951782880\n",
      "140729951779680\n",
      "100\n",
      "100\n",
      "101\n",
      "100\n",
      "140729951779712\n",
      "140729951782880\n",
      "140729951779680\n"
     ]
    }
   ],
   "source": [
    "#id函数举例\n",
    "a = 100\n",
    "b = 200\n",
    "c = a\n",
    "#如果a和c指向一份数据,更改a c也更改\n",
    "print(id(a))\n",
    "print(id(b))\n",
    "print(id(c))\n",
    "print(a)\n",
    "print(c)\n",
    "a = 101\n",
    "print(a)\n",
    "print(c)\n",
    "print(id(a))\n",
    "print(id(b))\n",
    "print(id(c))"
   ]
  },
  {
   "cell_type": "code",
   "execution_count": 61,
   "metadata": {},
   "outputs": [
    {
     "name": "stdout",
     "output_type": "stream",
     "text": [
      "1915916778952\n",
      "1915920228552\n",
      "1915920228552\n",
      "[1, 100, 3, 4, 5, 6, 7]\n",
      "[1, 2, 3, 4, 5, 6, 7]\n",
      "[1, 100, 3, 4, 5, 6, 7]\n",
      "[1, 100, 3, 4, 5, 6, 7]\n"
     ]
    }
   ],
   "source": [
    "#通过id来判断是不是生成了新的list\n",
    "l = [1,2,3,4,5,6,7]\n",
    "ll = l[:]\n",
    "lll = ll\n",
    "print(id(l))\n",
    "print(id(ll))\n",
    "print(id(lll))\n",
    "#通过代码来验证\n",
    "l[1] = 100\n",
    "print(l)\n",
    "print(ll)\n",
    "ll[1] = 100\n",
    "print(ll)\n",
    "print(lll)"
   ]
  },
  {
   "cell_type": "code",
   "execution_count": null,
   "metadata": {},
   "outputs": [],
   "source": []
  },
  {
   "cell_type": "code",
   "execution_count": null,
   "metadata": {},
   "outputs": [],
   "source": []
  },
  {
   "cell_type": "code",
   "execution_count": null,
   "metadata": {},
   "outputs": [],
   "source": []
  },
  {
   "cell_type": "code",
   "execution_count": null,
   "metadata": {},
   "outputs": [],
   "source": []
  },
  {
   "cell_type": "code",
   "execution_count": null,
   "metadata": {},
   "outputs": [],
   "source": []
  },
  {
   "cell_type": "code",
   "execution_count": null,
   "metadata": {},
   "outputs": [],
   "source": []
  },
  {
   "cell_type": "code",
   "execution_count": null,
   "metadata": {},
   "outputs": [],
   "source": []
  },
  {
   "cell_type": "code",
   "execution_count": null,
   "metadata": {},
   "outputs": [],
   "source": []
  },
  {
   "cell_type": "code",
   "execution_count": null,
   "metadata": {},
   "outputs": [],
   "source": []
  },
  {
   "cell_type": "code",
   "execution_count": null,
   "metadata": {},
   "outputs": [],
   "source": []
  },
  {
   "cell_type": "code",
   "execution_count": null,
   "metadata": {},
   "outputs": [],
   "source": []
  },
  {
   "cell_type": "code",
   "execution_count": null,
   "metadata": {},
   "outputs": [],
   "source": []
  },
  {
   "cell_type": "code",
   "execution_count": null,
   "metadata": {},
   "outputs": [],
   "source": []
  },
  {
   "cell_type": "code",
   "execution_count": null,
   "metadata": {},
   "outputs": [],
   "source": []
  },
  {
   "cell_type": "code",
   "execution_count": null,
   "metadata": {},
   "outputs": [],
   "source": []
  }
 ],
 "metadata": {
  "kernelspec": {
   "display_name": "Python 3",
   "language": "python",
   "name": "python3"
  },
  "language_info": {
   "codemirror_mode": {
    "name": "ipython",
    "version": 3
   },
   "file_extension": ".py",
   "mimetype": "text/x-python",
   "name": "python",
   "nbconvert_exporter": "python",
   "pygments_lexer": "ipython3",
   "version": "3.7.0"
  }
 },
 "nbformat": 4,
 "nbformat_minor": 2
}
