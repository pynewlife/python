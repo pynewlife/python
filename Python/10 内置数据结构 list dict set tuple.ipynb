{
 "cells": [
  {
   "cell_type": "markdown",
   "metadata": {},
   "source": [
    "# 元组的函数\n",
    "- 看代码\n",
    "- 以下所有函数,对list基本适用"
   ]
  },
  {
   "cell_type": "code",
   "execution_count": 1,
   "metadata": {},
   "outputs": [
    {
     "data": {
      "text/plain": [
       "5"
      ]
     },
     "execution_count": 1,
     "metadata": {},
     "output_type": "execute_result"
    }
   ],
   "source": [
    "#len 获取元组的长度\n",
    "t = (1,2,3,4,6)\n",
    "len(t)"
   ]
  },
  {
   "cell_type": "code",
   "execution_count": 2,
   "metadata": {},
   "outputs": [
    {
     "name": "stdout",
     "output_type": "stream",
     "text": [
      "6\n",
      "1\n"
     ]
    }
   ],
   "source": [
    "# max\n",
    "print(max(t))\n",
    "print(min(t))"
   ]
  },
  {
   "cell_type": "code",
   "execution_count": 3,
   "metadata": {},
   "outputs": [
    {
     "name": "stdout",
     "output_type": "stream",
     "text": [
      "(1, 2, 3, 4, 5, 7, 8)\n"
     ]
    }
   ],
   "source": [
    "# tuple\n",
    "l = [1,2,3,4,5,7,8]\n",
    "t = tuple(l)\n",
    "print(t)"
   ]
  },
  {
   "cell_type": "markdown",
   "metadata": {},
   "source": [
    "# 元组的函数\n",
    "- 基本与list一直"
   ]
  },
  {
   "cell_type": "code",
   "execution_count": 8,
   "metadata": {},
   "outputs": [
    {
     "name": "stdout",
     "output_type": "stream",
     "text": [
      "1\n",
      "10\n"
     ]
    }
   ],
   "source": [
    "# count:计算指定数出现的次数\n",
    "t = (2,3,4,5,6,78,89,99,99,0,88)\n",
    "print(t.count(88))\n",
    "\n",
    "#index:#求指定元组在元组中的索引位置\n",
    "print(t.index(88))\n"
   ]
  },
  {
   "cell_type": "markdown",
   "metadata": {},
   "source": [
    "# 元组变量交换法\n",
    "- 两个变量的交换值"
   ]
  },
  {
   "cell_type": "code",
   "execution_count": 10,
   "metadata": {},
   "outputs": [
    {
     "name": "stdout",
     "output_type": "stream",
     "text": [
      "1\n",
      "3\n",
      "********************\n",
      "3\n",
      "1\n",
      "********************\n",
      "1\n",
      "3\n"
     ]
    }
   ],
   "source": [
    "# 两个变量交换值\n",
    "a = 1\n",
    "b = 3\n",
    "print(a)\n",
    "print(b)\n",
    "print(\"*\"*20)\n",
    "# java\n",
    "c = a\n",
    "a = b\n",
    "b = c\n",
    "print(a)\n",
    "print(b)\n",
    "print(\"*\"*20)\n",
    "# Python\n",
    "a,b = b,a\n",
    "print(a)\n",
    "print(b)\n",
    "\n"
   ]
  },
  {
   "cell_type": "markdown",
   "metadata": {},
   "source": [
    "# 集合 - set\n",
    "- 集合是高中的几个概念\n",
    "- 一堆确定的无序的唯一的数据,集合中每个数据为一个元素"
   ]
  },
  {
   "cell_type": "code",
   "execution_count": 13,
   "metadata": {},
   "outputs": [
    {
     "name": "stdout",
     "output_type": "stream",
     "text": [
      "<class 'set'>\n",
      "<class 'dict'>\n",
      "<class 'set'>\n"
     ]
    }
   ],
   "source": [
    "# 集合的定义\n",
    "s = set()\n",
    "print(type(s))\n",
    "# 如果只用一个大括号定义,则定义一个dict\n",
    "d = {}\n",
    "print(type(d))\n",
    "# 用大括号定义,里边一定要有数值\n",
    "s = {1,2,3,4,5,5}\n",
    "print(type(s))"
   ]
  },
  {
   "cell_type": "markdown",
   "metadata": {},
   "source": [
    "# 集合的特点\n",
    "- 集合内部的数据是无序的.即无法使用index 和 分片\n",
    "- 集合数据具有唯一性,可以用了排除重复数据\n",
    "- 集合内的数据 str int float tuple,冰冻集合等,即内部职能防止可哈希的数据.\n",
    "## 集合的操作"
   ]
  },
  {
   "cell_type": "code",
   "execution_count": 15,
   "metadata": {},
   "outputs": [
    {
     "name": "stdout",
     "output_type": "stream",
     "text": [
      "{1, 4, 5, 'wangxiaoli', 565, 'wangxiaojing'}\n",
      "有\n",
      "没有\n"
     ]
    }
   ],
   "source": [
    "# 成员的检测\n",
    "# in not in\n",
    "s = {4,5,1,\"wangxiaoli\",\"wangxiaojing\",565}\n",
    "print(s)\n",
    "if \"wangxiaoli\" in s :\n",
    "    print(\"有\")\n",
    "if \"没\" not in s:\n",
    "    print(\"没有\")"
   ]
  },
  {
   "cell_type": "markdown",
   "metadata": {},
   "source": [
    "# 集合的便利操作"
   ]
  },
  {
   "cell_type": "code",
   "execution_count": 17,
   "metadata": {},
   "outputs": [
    {
     "name": "stdout",
     "output_type": "stream",
     "text": [
      "1 4 5 wangxiaoli 565 wangxiaojing "
     ]
    }
   ],
   "source": [
    "# for循环\n",
    "s = {1, 4, 5, 'wangxiaoli', 565, 'wangxiaojing'}\n",
    "for i in s:\n",
    "    print(i , end=\" \")"
   ]
  },
  {
   "cell_type": "code",
   "execution_count": 19,
   "metadata": {},
   "outputs": [
    {
     "name": "stdout",
     "output_type": "stream",
     "text": [
      "k -- 565 -- wangxiaojing\n",
      "k -- 5 -- 6\n",
      "k -- 4 -- 5\n",
      "('wangxiaoli', 565, 'wangxiaojing')\n",
      "(4, 5, 6)\n",
      "(1, 4, 5)\n"
     ]
    }
   ],
   "source": [
    "# 带元组的混合遍历\n",
    "s = {(1, 4, 5), ('wangxiaoli', 565, 'wangxiaojing'),(4,5,6)}\n",
    "for k,v,w in s :\n",
    "    print(\"k\",\"--\",v,\"--\",w)\n",
    "for k in s :\n",
    "    print(k)\n"
   ]
  },
  {
   "cell_type": "markdown",
   "metadata": {},
   "source": [
    "# 集合的内涵"
   ]
  },
  {
   "cell_type": "code",
   "execution_count": 22,
   "metadata": {},
   "outputs": [
    {
     "name": "stdout",
     "output_type": "stream",
     "text": [
      "{33, 2, 3, 1, 34, 5, 6, 7, 555, 77, 22, 23, 24}\n",
      "{33, 2, 3, 34, 1, 5, 6, 7, 555, 77, 22, 23, 24}\n"
     ]
    }
   ],
   "source": [
    "# 普通的集合\n",
    "#一下初始化后悔自动过滤掉重复选项\n",
    "s = {23,33,33,22,3,3,2,3,22,3,24,1,34,555,5,77,6,7}\n",
    "print(s)\n",
    "ss = {i for i in s}\n",
    "print(ss)"
   ]
  },
  {
   "cell_type": "code",
   "execution_count": 25,
   "metadata": {},
   "outputs": [
    {
     "name": "stdout",
     "output_type": "stream",
     "text": [
      "{2, 34, 6, 22, 24}\n"
     ]
    }
   ],
   "source": [
    "# 待条件的集合内涵\n",
    "sss = {i for i in ss if i % 2 == 0}\n",
    "print(sss)"
   ]
  },
  {
   "cell_type": "code",
   "execution_count": null,
   "metadata": {},
   "outputs": [],
   "source": []
  },
  {
   "cell_type": "code",
   "execution_count": 28,
   "metadata": {},
   "outputs": [
    {
     "name": "stdout",
     "output_type": "stream",
     "text": [
      "{'ii', 'shanshanshanshanshanshanshanshan', 'lovelove', 'i', 'shanshanshanshanshanshanshanshanshanshan', 'iii', 'shanshan', 'shanshanshanshanshanshan', 'lovelovelovelove', 'love', 'iiiii', 'iiii', 'lovelovelove', 'lovelovelovelovelove', 'shanshanshanshan'}\n"
     ]
    }
   ],
   "source": [
    "# 多循环的集合内涵\n",
    "s1 = {1,2,3,4,5}\n",
    "s2 = {\"i\",\"love\",\"shanshan\"}\n",
    "s = {m*n for m in s1 for n in s2}\n",
    "print(s)"
   ]
  },
  {
   "cell_type": "markdown",
   "metadata": {},
   "source": [
    "# 集合的函数/关于集合的函数"
   ]
  },
  {
   "cell_type": "code",
   "execution_count": null,
   "metadata": {},
   "outputs": [],
   "source": [
    "# len max min :跟其他函数一致"
   ]
  },
  {
   "cell_type": "code",
   "execution_count": 29,
   "metadata": {},
   "outputs": [
    {
     "name": "stdout",
     "output_type": "stream",
     "text": [
      "15\n",
      "shanshanshanshanshanshanshanshanshanshan\n",
      "i\n"
     ]
    }
   ],
   "source": [
    "print(len(s))\n",
    "print(max(s))\n",
    "print(min(s))"
   ]
  },
  {
   "cell_type": "code",
   "execution_count": 30,
   "metadata": {},
   "outputs": [
    {
     "name": "stdout",
     "output_type": "stream",
     "text": [
      "{1, 4, 5, 6, 7, 8, 44, 343, 90}\n"
     ]
    }
   ],
   "source": [
    "# set 生成一个集合\n",
    "l = [1,4,6,7,8,90,343,44,5]\n",
    "s = set(l)\n",
    "print(s)"
   ]
  },
  {
   "cell_type": "code",
   "execution_count": 34,
   "metadata": {},
   "outputs": [
    {
     "name": "stdout",
     "output_type": "stream",
     "text": [
      "{1, 2, 3, 4, 333, 55, 56}\n",
      "set()\n"
     ]
    }
   ],
   "source": [
    "# add :向集合内添加元素\n",
    "s = {1,2,3,4,56,55}\n",
    "s.add(333)\n",
    "print(s)\n",
    "# clear \n",
    "s.clear()\n",
    "print(s)\n",
    "# copy\n",
    "# remove 移除指定的值\n",
    "# discard: 移除集合中指定的值 删除的值没有,不报错\n"
   ]
  },
  {
   "cell_type": "code",
   "execution_count": null,
   "metadata": {},
   "outputs": [],
   "source": [
    "# pop 随机移除一个元素\n",
    "s = {1,2,3,4,5,67,7}\n",
    "d = s.pop()\n",
    "print(d)\n",
    "print(s)"
   ]
  },
  {
   "cell_type": "code",
   "execution_count": 35,
   "metadata": {},
   "outputs": [
    {
     "name": "stdout",
     "output_type": "stream",
     "text": [
      "{5, 6, 7}\n",
      "{1, 2, 3, 4, 8}\n",
      "{1, 2, 3, 4, 5, 6, 7, 8, 10, 89}\n"
     ]
    }
   ],
   "source": [
    "# 集合的函数\n",
    "# intersection: 交集\n",
    "# difference: 差集\n",
    "# union: 并集\n",
    "# issubset: 价差一个集合是否是另一个子集\n",
    "# insuperset:检查一个集合是否为另一个超集\n",
    "s1 = {1,2,3,4,5,6,7,8}\n",
    "s2 = {5,6,7,89,10 }\n",
    "s_1 = s1.intersection(s2)\n",
    "print(s_1)\n",
    "s_2 = s1.difference(s2)\n",
    "print(s_2)\n",
    "s_3 = s1.union(s2)\n",
    "print(s_3)"
   ]
  },
  {
   "cell_type": "markdown",
   "metadata": {},
   "source": [
    "# frozen set 冰冻集合\n",
    "- 冰冻集合不可以进行任何修改的集合\n",
    "- frozen是一种特殊的集合"
   ]
  },
  {
   "cell_type": "markdown",
   "metadata": {},
   "source": [
    "# 字典 set\n",
    "- 字典是一种组合数据,没有顺序的组合数据,数据以键值对形式出现"
   ]
  },
  {
   "cell_type": "code",
   "execution_count": 42,
   "metadata": {},
   "outputs": [
    {
     "name": "stdout",
     "output_type": "stream",
     "text": [
      "{}\n",
      "{}\n",
      "{'one': 1, 'two': 2, 'three': 3}\n",
      "{'one': 1, 'two': 2, 'three': 3}\n",
      "{'one': 1, 'two': 2, 'three': 3}\n"
     ]
    }
   ],
   "source": [
    "# 字典的创建\n",
    "d = {}\n",
    "print(d)\n",
    "d = dict()\n",
    "print(d)\n",
    "# 创建有值的字典的格式如下\n",
    "d = {\"one\":1,\"two\":2,\"three\":3}\n",
    "print(d)\n",
    "# 用dict创建有内容的字典2\n",
    "# 利用关键字参数\n",
    "d = dict(one=1,two=2,three=3)\n",
    "print(d)\n",
    "#\n",
    "d = dict([(\"one\",1),(\"two\",2),(\"three\",3)])\n",
    "print(d)"
   ]
  },
  {
   "cell_type": "markdown",
   "metadata": {},
   "source": [
    "# 字典的特征\n",
    "- 字典是序列类型,但是内部数据\n",
    "- 字典中的数据每个都有键值对组成,即键值对\n",
    "    - key:必须是哈希值,比如:int sting float tuple 但是 list set dict不行\n",
    "    - value:任何值\n"
   ]
  },
  {
   "cell_type": "markdown",
   "metadata": {},
   "source": [
    "## 字典的常见操作"
   ]
  },
  {
   "cell_type": "code",
   "execution_count": 4,
   "metadata": {},
   "outputs": [
    {
     "name": "stdout",
     "output_type": "stream",
     "text": [
      "1\n",
      "{'one': 'eins', 'two': 2, 'three': 3}\n",
      "{'two': 2, 'three': 3}\n"
     ]
    }
   ],
   "source": [
    "# 访问数据\n",
    "d = {\"one\":1,\"two\":2,\"three\":3}\n",
    "# 注意访问格式\n",
    "# 中括号内是键值\n",
    "print(d[\"one\"])\n",
    "d[\"one\"] = \"eins\"\n",
    "print(d)\n",
    "del d[\"one\"]\n",
    "print(d)\n"
   ]
  },
  {
   "cell_type": "code",
   "execution_count": 5,
   "metadata": {},
   "outputs": [
    {
     "name": "stdout",
     "output_type": "stream",
     "text": [
      "key\n"
     ]
    }
   ],
   "source": [
    "# 成员检测 in not in\n",
    "# 成员检测只检测key的内容\n",
    "d = {\"one\":1,\"two\":2,\"three\":3}\n",
    "if 2 in d:\n",
    "    print(\"value\")\n",
    "if \"two\" in d:\n",
    "    print(\"key\")\n",
    "if (\"two,2\") in d :\n",
    "    print(\"kv\")"
   ]
  },
  {
   "cell_type": "code",
   "execution_count": 13,
   "metadata": {},
   "outputs": [
    {
     "name": "stdout",
     "output_type": "stream",
     "text": [
      "one 1\n",
      "two 2\n",
      "three 3\n",
      "one 1\n",
      "two 2\n",
      "three 3\n",
      "1\n",
      "2\n",
      "3\n",
      "one -- 1\n",
      "two -- 2\n",
      "three -- 3\n"
     ]
    }
   ],
   "source": [
    "# 遍历在Python 2 和Python 3 中区别比较大,代码不通用\n",
    "# 按照key值来使用for循环\n",
    "d = {\"one\":1,\"two\":2,\"three\":3}\n",
    "for k in d:\n",
    "    print(k,d[k])\n",
    "# 上述代码可以改写成如下:\n",
    "for k in d.keys():\n",
    "    print(k,d[k])\n",
    "# 只访问字典的值\n",
    "for k in d.values():\n",
    "    print(k)\n",
    "# 注意一下的写法\n",
    "for k,v in d.items():\n",
    "    print(k,\"--\",v)"
   ]
  },
  {
   "cell_type": "markdown",
   "metadata": {},
   "source": [
    "# 字典生成式"
   ]
  },
  {
   "cell_type": "code",
   "execution_count": 15,
   "metadata": {},
   "outputs": [
    {
     "name": "stdout",
     "output_type": "stream",
     "text": [
      "{'one': 1, 'two': 2, 'three': 3}\n",
      "{'two': 2}\n"
     ]
    }
   ],
   "source": [
    "d = {\"one\":1,\"two\":2,\"three\":3}\n",
    "# 常规字典生成式\n",
    "dd = {k:v for k,v in d.items()}\n",
    "print(dd)\n",
    "#加条件的字典生成\n",
    "dd = {k:v for k,v in d.items() if v % 2 == 0}\n",
    "print(dd)"
   ]
  },
  {
   "cell_type": "markdown",
   "metadata": {},
   "source": [
    "# 字典的相关函数"
   ]
  },
  {
   "cell_type": "code",
   "execution_count": 16,
   "metadata": {},
   "outputs": [
    {
     "name": "stdout",
     "output_type": "stream",
     "text": [
      "{'one': 1, 'two': 2, 'three': 3}\n"
     ]
    }
   ],
   "source": [
    "# 通用函数 len max min dict\n",
    "# *str(字典):返回字典的字符串格式\n",
    "d = {\"one\":1,\"two\":2,\"three\":3}\n",
    "print(str(d))"
   ]
  },
  {
   "cell_type": "code",
   "execution_count": 17,
   "metadata": {},
   "outputs": [
    {
     "name": "stdout",
     "output_type": "stream",
     "text": [
      "<class 'dict_items'>\n",
      "dict_items([('one', 1), ('two', 2), ('three', 3)])\n"
     ]
    }
   ],
   "source": [
    "# clear 清空\n",
    "# items 返回字典的键值对组成的元组格式\n",
    "d = {\"one\":1,\"two\":2,\"three\":3}\n",
    "i = d.items()\n",
    "print(type(i))\n",
    "print(i)"
   ]
  },
  {
   "cell_type": "code",
   "execution_count": 19,
   "metadata": {},
   "outputs": [
    {
     "name": "stdout",
     "output_type": "stream",
     "text": [
      "<class 'dict_keys'>\n",
      "dict_keys(['one', 'two', 'three'])\n"
     ]
    }
   ],
   "source": [
    "# keys: 返回字典的键组成的一个结构\n",
    "k = d.keys()\n",
    "print(type(k))\n",
    "print(k)\n"
   ]
  },
  {
   "cell_type": "code",
   "execution_count": 20,
   "metadata": {},
   "outputs": [
    {
     "name": "stdout",
     "output_type": "stream",
     "text": [
      "<class 'dict_values'>\n",
      "dict_values([1, 2, 3])\n"
     ]
    }
   ],
   "source": [
    "# values: 返回字典的键组成的一个结构\n",
    "k = d.values()\n",
    "print(type(k))\n",
    "print(k)"
   ]
  },
  {
   "cell_type": "code",
   "execution_count": 23,
   "metadata": {},
   "outputs": [
    {
     "name": "stdout",
     "output_type": "stream",
     "text": [
      "1\n",
      "100\n"
     ]
    }
   ],
   "source": [
    "# get: 根据指定的键返回相应的值,get可以设置默认值\n",
    "d = {\"one\":1,\"two\":2,\"three\":3}\n",
    "print(d.get(\"one\",100))\n",
    "print(d.get(\"onedd\",100))\n",
    "\n",
    "#体会这两种的区别\n",
    "#print(d[\"3245\"])"
   ]
  },
  {
   "cell_type": "code",
   "execution_count": 24,
   "metadata": {},
   "outputs": [
    {
     "name": "stdout",
     "output_type": "stream",
     "text": [
      "{'one': 'hahhah', 'two': 'hahhah', 'three': 'hahhah'}\n"
     ]
    }
   ],
   "source": [
    "# fromkeys:使用指定的序列作为键,使用一个值作为字典所有的见得值\n",
    "l = [\"one\",\"two\",\"three\"]\n",
    "d = dict.fromkeys(l,\"hahhah\")\n",
    "print(d)"
   ]
  },
  {
   "cell_type": "code",
   "execution_count": null,
   "metadata": {},
   "outputs": [],
   "source": []
  },
  {
   "cell_type": "code",
   "execution_count": null,
   "metadata": {},
   "outputs": [],
   "source": []
  },
  {
   "cell_type": "code",
   "execution_count": null,
   "metadata": {},
   "outputs": [],
   "source": []
  }
 ],
 "metadata": {
  "kernelspec": {
   "display_name": "Python 3",
   "language": "python",
   "name": "python3"
  },
  "language_info": {
   "codemirror_mode": {
    "name": "ipython",
    "version": 3
   },
   "file_extension": ".py",
   "mimetype": "text/x-python",
   "name": "python",
   "nbconvert_exporter": "python",
   "pygments_lexer": "ipython3",
   "version": "3.7.0"
  }
 },
 "nbformat": 4,
 "nbformat_minor": 2
}
