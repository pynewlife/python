{
 "cells": [
  {
   "cell_type": "markdown",
   "metadata": {},
   "source": [
    "# 字符串\n",
    "\n",
    "- 转义字符\n",
    "- 格式化\n",
    "- 内建函数\n",
    "\n",
    "## 转义字符\n",
    "- 用一个特殊的字符来表示一系列不方面写出来的内容，比如回车，换行，退格等等\n",
    "- 用反斜杠字符，一但字符出现反斜杠后面的一个或者几个字符就有另一种意思了\n",
    "- 在字符串中一旦出现反斜杠就要小心意思。\n",
    "- 不同的系统对回车换行有不同的表示\n",
    "    - windows \\n\n",
    "    - linux \\r\\n"
   ]
  },
  {
   "cell_type": "code",
   "execution_count": 1,
   "metadata": {},
   "outputs": [
    {
     "name": "stdout",
     "output_type": "stream",
     "text": [
      "i love lixiaojing\n"
     ]
    }
   ],
   "source": [
    "s = \"i love lixiaojing\"\n",
    "print(s)"
   ]
  },
  {
   "cell_type": "code",
   "execution_count": 5,
   "metadata": {},
   "outputs": [
    {
     "name": "stdout",
     "output_type": "stream",
     "text": [
      "let's go\n",
      "let's go\n",
      "c:\\user\n",
      "I love \r\n",
      " wangxiaojing\n"
     ]
    }
   ],
   "source": [
    "#如果要表示出let's go\n",
    "#可以使用单双引号\n",
    "#也可使用转义字符\n",
    "s = \"let's go\"\n",
    "print(s)\n",
    "s = 'let\\'s go'\n",
    "print(s)\n",
    "#\\\\就是一个\\\n",
    "sss='c:\\\\user'\n",
    "print(sss)\n",
    "#回车换行符号\n",
    "sl=\"I love \\r\\n wangxiaojing\"\n",
    "print(sl)"
   ]
  },
  {
   "cell_type": "markdown",
   "metadata": {},
   "source": [
    "## 字符串的格式化\n",
    "- 把字符串按照一定格式打印或者填充\n",
    "- 格式化有两种方法\n",
    "    - 利用百分号\n",
    "    - 利用format函数"
   ]
  },
  {
   "cell_type": "code",
   "execution_count": null,
   "metadata": {},
   "outputs": [],
   "source": [
    "s = 'xxx 你好'"
   ]
  },
  {
   "cell_type": "markdown",
   "metadata": {},
   "source": [
    "### 利用百分号格式化\n",
    "- 在字符串中，利用%表示一个特殊含义的，表示字符进行格式化\n",
    "- %d 此处应该输入一个整数\n",
    "- %s 此处表示应该放一个字符串"
   ]
  },
  {
   "cell_type": "code",
   "execution_count": 15,
   "metadata": {},
   "outputs": [
    {
     "name": "stdout",
     "output_type": "stream",
     "text": [
      "I love %s\n",
      "I love wangxiaojing \n",
      "I am 12 years old\n",
      "I am zhangling , I am 12 years old\n"
     ]
    }
   ],
   "source": [
    "s = \"I love %s\"\n",
    "print(s)\n",
    "\n",
    "s = \"I love %s \"% \"wangxiaojing\"\n",
    "print(s)\n",
    "s = \"I am %d years old\" \n",
    "print(s% 12)\n",
    "s = \"I am %s , I am %d years old\"\n",
    "#多个格式化用（）括起来\n",
    "print(s % (\"zhangling\", 12))"
   ]
  },
  {
   "cell_type": "markdown",
   "metadata": {},
   "source": [
    "### format函数格式化字符串\n",
    "- 直接使用format函数进行格式化\n",
    "- 推荐使用这种方法\n",
    "- 在使用上以{}和：代替%后面用带参数完成"
   ]
  },
  {
   "cell_type": "code",
   "execution_count": 19,
   "metadata": {},
   "outputs": [
    {
     "name": "stdout",
     "output_type": "stream",
     "text": [
      "I love lixiaojing\n",
      "I am 18 years old, I am zhangming,I am 18\n"
     ]
    }
   ],
   "source": [
    "s = \"I love {}\".format(\"lixiaojing\")\n",
    "print(s)\n",
    "s = \"I am {1} years old, I am {0},I am {1}\".format(\"zhangming\",18)\n",
    "print(s)"
   ]
  },
  {
   "cell_type": "markdown",
   "metadata": {},
   "source": [
    "## None\n",
    "- 表示什么都没有\n",
    "- 如果函数没有返回值，可以返回None\n",
    "- 用来占位\n",
    "- 用来解除变量的绑定"
   ]
  },
  {
   "cell_type": "markdown",
   "metadata": {},
   "source": [
    "# 表达式\n",
    "- 由一个或者几个数字或者变量和运算符组合的一行代码\n",
    "- 通常会返回一个结果\n",
    "# 运算符\n",
    "- 由一个以上的值经过变化得到一个新值叫运算\n",
    "- 用于运算的符号\n",
    "- 运算符号\n",
    "    - 算数的运算符\n",
    "    - 比较或者关系运算符\n",
    "    - 赋值运算符\n",
    "    - 逻辑运算符\n",
    "    - 位运算符\n",
    "    - 成员运算符\n",
    "    - 身份运算符"
   ]
  },
  {
   "cell_type": "markdown",
   "metadata": {},
   "source": [
    "## 算数运算符\n",
    "- 进行运算的符号\n",
    "- Python 没有自增自减"
   ]
  },
  {
   "cell_type": "code",
   "execution_count": 25,
   "metadata": {},
   "outputs": [
    {
     "name": "stdout",
     "output_type": "stream",
     "text": [
      "10\n",
      "12 4.5\n",
      "1\n",
      "2\n",
      "6561\n"
     ]
    }
   ],
   "source": [
    "#+ - * /\n",
    "a = 9+3-2\n",
    "print(a)\n",
    "#乘除法用(*)(/)代替\n",
    "a=3*4\n",
    "b=9/2\n",
    "print(a,b)\n",
    "#取余运算 %\n",
    "#两数相除有商有余数\n",
    "a = 9%4\n",
    "print(a)\n",
    "#取整运算 //\n",
    "a=9//4\n",
    "print(a)\n",
    "#幂运算 **\n",
    "a = 9**4\n",
    "print(a)"
   ]
  },
  {
   "cell_type": "markdown",
   "metadata": {},
   "source": [
    "## 比较运算符\n",
    "- 对两个变量或者值进行比较的运算\n",
    "- 比较的结果是布尔值True/False"
   ]
  },
  {
   "cell_type": "code",
   "execution_count": 27,
   "metadata": {},
   "outputs": [
    {
     "name": "stdout",
     "output_type": "stream",
     "text": [
      "False\n",
      "True\n"
     ]
    }
   ],
   "source": [
    "# ==,等于号\n",
    "a == 3**4\n",
    "b = a ==80\n",
    "print(b)\n",
    "#不等于 ！=\n",
    "print(8!=9)\n",
    "#大于>\n",
    "#小于<\n",
    "#大于等于>=\n",
    "#小于等于<="
   ]
  },
  {
   "cell_type": "markdown",
   "metadata": {},
   "source": [
    "## 赋值运算符"
   ]
  },
  {
   "cell_type": "code",
   "execution_count": 1,
   "metadata": {},
   "outputs": [
    {
     "name": "stdout",
     "output_type": "stream",
     "text": [
      "7\n"
     ]
    }
   ],
   "source": [
    "#=，赋值\n",
    "a = 0\n",
    "#+=是缩写\n",
    "a+=7 #a=a+7\n",
    "print(a)"
   ]
  },
  {
   "cell_type": "markdown",
   "metadata": {},
   "source": [
    "# 逻辑预算符\n",
    "- 对布尔进行运算的符号\n",
    "- and 逻辑与\n",
    "- or  逻辑或\n",
    "- not 逻辑非\n",
    "- Python是没有逻辑异或非\n",
    "- 运算规则\n",
    "    - and 看做乘法 or看做是加法\n",
    "    - Ture 看做1  False是0\n",
    "    - 最后的结果是0 则为False 否则为Ture\n",
    " - 逻辑运算的短路问题\n",
    "    - 逻辑运算，一旦有结果直接返回，不在运算下边的，直接返回值"
   ]
  },
  {
   "cell_type": "code",
   "execution_count": 2,
   "metadata": {},
   "outputs": [
    {
     "name": "stdout",
     "output_type": "stream",
     "text": [
      "True\n"
     ]
    }
   ],
   "source": [
    "#逻辑运算符\n",
    "a = True\n",
    "b = False\n",
    "c = True\n",
    "\n",
    "d = a and b or c\n",
    "print(d)"
   ]
  },
  {
   "cell_type": "code",
   "execution_count": 4,
   "metadata": {},
   "outputs": [
    {
     "name": "stdout",
     "output_type": "stream",
     "text": [
      "True\n"
     ]
    }
   ],
   "source": [
    "#逻辑运算短路的实例\n",
    "#下边的情况a一定是真\n",
    "a = True or True and False\n",
    "print(a)"
   ]
  },
  {
   "cell_type": "markdown",
   "metadata": {},
   "source": [
    "# 成员运算符\n",
    "- 用来检测一个变量是不是另一个变量的一个成员\n",
    "- in \n",
    "- not in"
   ]
  },
  {
   "cell_type": "code",
   "execution_count": 10,
   "metadata": {},
   "outputs": [
    {
     "name": "stdout",
     "output_type": "stream",
     "text": [
      "False\n"
     ]
    }
   ],
   "source": [
    "#例子\n",
    "l = [1,2,3,4]\n",
    "a = 7\n",
    "b = a in l\n",
    "print(b)"
   ]
  },
  {
   "cell_type": "markdown",
   "metadata": {},
   "source": [
    "## 身份运算符\n",
    "- 用来检测一个变量是不是另一个变量\n",
    "- 语法是 is\n",
    "- isnot\n"
   ]
  },
  {
   "cell_type": "code",
   "execution_count": 11,
   "metadata": {},
   "outputs": [
    {
     "name": "stdout",
     "output_type": "stream",
     "text": [
      "True\n"
     ]
    }
   ],
   "source": [
    "a = 9\n",
    "b = 9\n",
    "print(a is b)"
   ]
  },
  {
   "cell_type": "markdown",
   "metadata": {},
   "source": [
    "## 运算符的优先级的问题\n",
    "- 永远记住，括号永远有最高优先级\n"
   ]
  }
 ],
 "metadata": {
  "kernelspec": {
   "display_name": "Python 3",
   "language": "python",
   "name": "python3"
  },
  "language_info": {
   "codemirror_mode": {
    "name": "ipython",
    "version": 3
   },
   "file_extension": ".py",
   "mimetype": "text/x-python",
   "name": "python",
   "nbconvert_exporter": "python",
   "pygments_lexer": "ipython3",
   "version": "3.7.0"
  }
 },
 "nbformat": 4,
 "nbformat_minor": 2
}
