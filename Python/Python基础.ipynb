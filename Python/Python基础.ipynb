{
 "cells": [
  {
   "cell_type": "markdown",
   "metadata": {},
   "source": [
    "# Python基础\n",
    "## Python概述\n",
    " - 计算机语言的概述\n",
    "    - 语言 交流的工具 沟通的媒介\n",
    "    - 计算机语言：人跟计算机沟通的工具\n",
    "    - Python是计算机语言的一种\n",
    "    - Python编程语言\n",
    "        - 代码 人类语言。通过代码命令机器，跟机器交流\n",
    "        - Python解释器：就是那个担任翻译工作的二狗子同学\n",
    "            - 写代码\n",
    "            - 执行 由翻译官（Python解释器）吧命令（Code）翻译给机器，同时把结果翻译给我。\n",
    "    - Python读音问题\n",
    "    - Python 简史\n",
    "        - 1989年，Guido van Rossum\n",
    "        - 2008年，Python3.0 诞生\n",
    "        - 2014年，2.7支持到2020年\n",
    "        - 2017年，AI元年，Python崛起\n",
    "    - Pyhton特点\n",
    "        - 速度问题\n",
    "        - Python跟其他语言的选择问题\n",
    "    - Python的应用领域\n",
    "        - 全能\n",
    "        - 设计哲学 平衡发展，样样通，简单明了\n",
    "    - Python为什么这么火\n",
    "        - 会不会持续火\n",
    "    - 环境问题\n",
    "        - anaconda + pycharm\n",
    "        - Python3.6\n",
    "    - 环境\n",
    "        - 学习环境\n",
    "            - 直播课：网易云课堂\n",
    "            - 讲义+代码 github  https://github.com/tulingxueyuan\n",
    "            - 教科书 gitbook   https://tulingxueyuan.gitbooks.io/python/content/\n",
    "        - 操作系统\n",
    "            - windows\n",
    "            - linux\n",
    "            - MacOS\n",
    "            - 我们的标准系统下开虚拟机，虚拟机安装Ubuntu\n",
    "        - 软件环境\n",
    "            - 不用Python解释器\n",
    "            - 使用anaconda3+pycharm代替\n",
    "            - 具体讲师不作要求\n",
    "    - Python的执行方式\n",
    "        - 本质上Python是一堆命令的几何体"
   ]
  },
  {
   "cell_type": "code",
   "execution_count": 2,
   "metadata": {},
   "outputs": [
    {
     "name": "stdout",
     "output_type": "stream",
     "text": [
      "hello world\n"
     ]
    }
   ],
   "source": [
    "print(\"hello world\")"
   ]
  }
 ],
 "metadata": {
  "kernelspec": {
   "display_name": "Python 3",
   "language": "python",
   "name": "python3"
  },
  "language_info": {
   "codemirror_mode": {
    "name": "ipython",
    "version": 3
   },
   "file_extension": ".py",
   "mimetype": "text/x-python",
   "name": "python",
   "nbconvert_exporter": "python",
   "pygments_lexer": "ipython3",
   "version": "3.7.0"
  }
 },
 "nbformat": 4,
 "nbformat_minor": 2
}
